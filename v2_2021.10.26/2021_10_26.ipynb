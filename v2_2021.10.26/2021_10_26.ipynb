{
 "cells": [
  {
   "cell_type": "code",
   "execution_count": 1,
   "id": "65d15e0a",
   "metadata": {
    "id": "65d15e0a"
   },
   "outputs": [],
   "source": [
    "import numpy as np\n",
    "import matplotlib.pyplot as plt\n",
    "T = 1\n",
    "delta = 0.01\n",
    "N = 5\n",
    "M = 100000"
   ]
  },
  {
   "cell_type": "code",
   "execution_count": 2,
   "id": "e5da26b4",
   "metadata": {
    "id": "e5da26b4"
   },
   "outputs": [],
   "source": [
    "def generate_Q(N,  M, tau):\n",
    "    ii = 0\n",
    "    tore = tau*np.sqrt(2/np.pi)\n",
    "    Q = []\n",
    "    while ii < M:\n",
    "        tempQ = 2*tore*np.random.rand(N) - tore\n",
    "        tempQ = np.array(tempQ)\n",
    "        if np.linalg.norm(tempQ) <= tore:\n",
    "            Q = np.append(Q, tempQ)\n",
    "            ii += 1\n",
    "    return (Q.reshape(-1, N))\n",
    "\n",
    "def sol_act(Q, T):\n",
    "    N = len(Q[0])\n",
    "    A = np.diag(np.exp(-(np.arange(1, N+1))**2*T))\n",
    "    F = A@Q.T #A = NxN, Q = MxN, Q.T = NxM , F = NxM\n",
    "    return F\n",
    "\n",
    "def noise_data(F, delta):\n",
    "    e = 2*np.random.rand(len(F[:,0]), len(F[0])) - 1\n",
    "    N = len(F[:])\n",
    "    for m in range(len(F[0])):\n",
    "        norm = np.linalg.norm(F[:,m])\n",
    "        e[:, m] = e[:, 0]*norm*delta\n",
    "    nF = F+e\n",
    "    return nF\n",
    "\n",
    "def sol_Tik(alpha, T, F):\n",
    "    N = len(F[:])\n",
    "    invA = np.diag(1/(alpha*np.exp((np.arange(1, N+1))**2*T)+np.exp(-(np.arange(1, N+1))**2*T))) # A = NxN\n",
    "    hatQ = invA@F \n",
    "    return hatQ\n",
    "\n",
    "def result_gen_data(N, M, tau, Q, delta):\n",
    "    #Q = generate_Q(N, M, tau)\n",
    "    T = 1\n",
    "    F = sol_act(Q, T)\n",
    "    nF = noise_data(F, delta)\n",
    "    np.savetxt('Q1.txt', Q.T, fmt='%8f', delimiter = ',', header='')\n",
    "    np.savetxt('F1.txt', F, fmt='%8f', delimiter = ',', header='')\n",
    "    np.savetxt('nF1.txt', nF, fmt='%8f', delimiter = ',', header='')"
   ]
  },
  {
   "cell_type": "code",
   "execution_count": 3,
   "id": "9fc3c737",
   "metadata": {
    "id": "9fc3c737"
   },
   "outputs": [
    {
     "data": {
      "text/plain": [
       "array([[-0.0961461 , -0.16424991,  0.18038404,  0.41688054, -0.26994924],\n",
       "       [-0.61781972,  0.23856541, -0.12291229, -0.10325335, -0.20937362],\n",
       "       [ 0.01137637,  0.39347394, -0.46457865,  0.33979974,  0.04751796],\n",
       "       ...,\n",
       "       [-0.37471043,  0.309845  , -0.37773583,  0.09491097, -0.40888682],\n",
       "       [-0.14930049, -0.25550041,  0.3368609 , -0.16447492,  0.24901696],\n",
       "       [ 0.17015645, -0.54063954, -0.16522359, -0.23564614, -0.08862698]])"
      ]
     },
     "execution_count": 3,
     "metadata": {},
     "output_type": "execute_result"
    }
   ],
   "source": [
    "Q = generate_Q(N, M, tau = 1)\n",
    "F = sol_act(Q, T)\n",
    "nF = noise_data(F, delta)\n",
    "result_gen_data(N, M, tau = 1, Q = Q, delta = 0.01)\n",
    "Q"
   ]
  },
  {
   "cell_type": "code",
   "execution_count": 4,
   "id": "914c0663",
   "metadata": {
    "id": "914c0663"
   },
   "outputs": [],
   "source": [
    "def result_Lcurve(N, tau, delta, min_al):\n",
    "    #get data\n",
    "    M = 1 #one data set\n",
    "    Q = generate_Q(N, M, tau)\n",
    "    \n",
    "    T = 1\n",
    "    F = sol_act(Q, T)\n",
    "    nF = noise_data(F, delta)\n",
    "    \n",
    "    al = np.linspace(0, min_al, 100)\n",
    "    q1 = []\n",
    "    q2 = []\n",
    "    for ii in range(len(al)):\n",
    "        q1.append(sol_Tik(10**al[ii], T, F))\n",
    "        q2.append(sol_Tik(10**al[ii], T, nF))\n",
    "    q1 = np.array(q1) \n",
    "    q2 = np.array(q2)\n",
    "    \n",
    "    n = np.arange(1, N+1)\n",
    "    A = np.diag(np.exp(-n**2*T))\n",
    "    \n",
    "    x1 = []\n",
    "    x2 = []\n",
    "    y1 = []\n",
    "    y2 = []\n",
    "\n",
    "    for i in range(len(al)):\n",
    "        x1.append(np.linalg.norm(A@q1[i]-F))\n",
    "        y1.append(np.linalg.norm(q1[i]))\n",
    "        x2.append(np.linalg.norm(A@q2[i]-nF))\n",
    "        y2.append(np.linalg.norm(q2[i]))\n",
    "    \n",
    "    fig = plt.figure(figsize = (10,10))\n",
    "    fig.add_subplot(2, 1, 1)\n",
    "    plt.xscale(\"log\")\n",
    "    plt.yscale(\"log\")\n",
    "    plt.plot(x1, y1)\n",
    "    plt.title(\"without noise\")\n",
    "\n",
    "    \n",
    "    fig.add_subplot(2, 1, 2)\n",
    "    plt.xscale(\"log\")\n",
    "    plt.yscale(\"log\")\n",
    "    plt.plot(x2, y2)\n",
    "    plt.title(\"with noise\")     \n",
    "\n",
    "    \n",
    "    plt.savefig('L-curve1')\n",
    "    return np.array(x1), np.array(y1), np.array(x2), np.array(y2)"
   ]
  },
  {
   "cell_type": "code",
   "execution_count": 5,
   "id": "a9eb39ce",
   "metadata": {
    "colab": {
     "base_uri": "https://localhost:8080/",
     "height": 611
    },
    "id": "a9eb39ce",
    "outputId": "420c0019-2478-49de-8659-476cbc8116f2"
   },
   "outputs": [
    {
     "data": {
      "image/png": "[encoded data removed]",
      "text/plain": [
       "<Figure size 720x720 with 2 Axes>"
      ]
     },
     "metadata": {
      "needs_background": "light"
     },
     "output_type": "display_data"
    }
   ],
   "source": [
    "x1, y1, x2, y2 = result_Lcurve(10, 1, 0.01, -20)\n",
    "x2 = np.flip(x2)\n",
    "y2 = np.flip(y2)\n"
   ]
  },
  {
   "cell_type": "code",
   "execution_count": 6,
   "id": "HSX9t8wy8F6r",
   "metadata": {
    "colab": {
     "base_uri": "https://localhost:8080/"
    },
    "id": "HSX9t8wy8F6r",
    "outputId": "21de2784-0845-4e2a-80e8-c36c19463ecc"
   },
   "outputs": [
    {
     "name": "stdout",
     "output_type": "stream",
     "text": [
      " x2 : \n",
      " [0.00125661 0.00125889 0.00126035 0.00126127 0.00126186 0.00126223\n",
      " 0.00126246 0.0012626  0.0012627  0.00126275 0.00126279 0.00126281\n",
      " 0.00126283 0.00126284 0.00126284 0.00126284 0.00126285 0.00126285\n",
      " 0.00126285 0.00126285 0.00126285 0.00126285 0.00126286 0.00126287\n",
      " 0.00126289 0.00126296 0.00126309 0.00126339 0.00126395 0.00126494\n",
      " 0.00126644 0.00126839 0.00127055 0.00127262 0.00127438 0.00127574\n",
      " 0.00127672 0.0012774  0.00127784 0.00127814 0.00127832 0.00127844\n",
      " 0.00127852 0.00127857 0.0012786  0.00127862 0.00127863 0.00127864\n",
      " 0.00127864 0.00127864 0.00127865 0.00127865 0.00127865 0.00127866\n",
      " 0.00127867 0.00127869 0.00127875 0.00127888 0.00127913 0.00127957\n",
      " 0.00128025 0.00128115 0.00128216 0.00128314 0.00128398 0.00128464\n",
      " 0.00128512 0.00128545 0.00128567 0.00128583 0.00128596 0.0012861\n",
      " 0.00128636 0.00128693 0.00128831 0.00129163 0.0012995  0.00131754\n",
      " 0.00135645 0.00143315 0.0015666  0.00176578 0.0020185  0.0022952\n",
      " 0.00256798 0.00283196 0.003123   0.00353736 0.00425312 0.00552962\n",
      " 0.00766909 0.01096928 0.01566614 0.02182303 0.0291884  0.03714446\n",
      " 0.04486436 0.05162019 0.05702053 0.0610339 ]\n",
      " \n",
      " y2 : \n",
      " [8.82258016e+05 5.58013087e+05 3.52018295e+05 2.21704678e+05\n",
      " 1.39490570e+05 8.77126635e+04 5.51420709e+04 3.46737406e+04\n",
      " 2.18261444e+04 1.37796515e+04 8.76514118e+03 5.67676888e+03\n",
      " 3.82496981e+03 2.77292397e+03 2.22490336e+03 1.96681650e+03\n",
      " 1.85452888e+03 1.80727587e+03 1.78661407e+03 1.77572157e+03\n",
      " 1.76716309e+03 1.75707870e+03 1.74257904e+03 1.72049218e+03\n",
      " 1.68665333e+03 1.63551051e+03 1.56021034e+03 1.45365368e+03\n",
      " 1.31108117e+03 1.13398855e+03 9.33266293e+02 7.28066327e+02\n",
      " 5.39268845e+02 3.81675561e+02 2.60473230e+02 1.73000434e+02\n",
      " 1.12726488e+02 7.25081177e+01 4.62459047e+01 2.93403639e+01\n",
      " 1.85613571e+01 1.17360192e+01 7.44187142e+00 4.76463495e+00\n",
      " 3.12449944e+00 2.15549315e+00 1.61994212e+00 1.35075393e+00\n",
      " 1.22746778e+00 1.17374475e+00 1.14940254e+00 1.13574994e+00\n",
      " 1.12417143e+00 1.10999786e+00 1.08965852e+00 1.05943408e+00\n",
      " 1.01509346e+00 9.52356983e-01 8.68408065e-01 7.64350455e-01\n",
      " 6.47383242e-01 5.30429368e-01 4.28040033e-01 3.50565339e-01\n",
      " 3.00325339e-01 2.72267136e-01 2.58420772e-01 2.52142331e-01\n",
      " 2.49413610e-01 2.48210339e-01 2.47602671e-01 2.47169161e-01\n",
      " 2.46696485e-01 2.46037584e-01 2.45042635e-01 2.43521269e-01\n",
      " 2.41222624e-01 2.37840176e-01 2.33066740e-01 2.26732990e-01\n",
      " 2.19025098e-01 2.10655633e-01 2.02738741e-01 1.96274831e-01\n",
      " 1.91617763e-01 1.88413699e-01 1.85950340e-01 1.83481723e-01\n",
      " 1.80322046e-01 1.75790518e-01 1.69142147e-01 1.59579372e-01\n",
      " 1.46416187e-01 1.29423644e-01 1.09238961e-01 8.75086381e-02\n",
      " 6.64584884e-02 4.80531134e-02 3.33476387e-02 2.24219142e-02]\n"
     ]
    }
   ],
   "source": [
    "print(f' x2 : \\n {x2}\\n \\n y2 : \\n {y2}')"
   ]
  },
  {
   "cell_type": "code",
   "execution_count": 7,
   "id": "v9-EgoVaNIY4",
   "metadata": {
    "colab": {
     "base_uri": "https://localhost:8080/"
    },
    "id": "v9-EgoVaNIY4",
    "outputId": "5728fbe1-07dd-4f24-fc79-8ca52074663e"
   },
   "outputs": [
    {
     "data": {
      "text/plain": [
       "[array([ 2.28249836e-06, -3.24244929e+05]),\n",
       " array([ 1.45630273e-06, -2.05994792e+05]),\n",
       " array([ 9.23760362e-07, -1.30313618e+05]),\n",
       " array([ 5.83800655e-07, -8.22141077e+04]),\n",
       " array([ 3.68094213e-07, -5.17779064e+04]),\n",
       " array([ 2.31748420e-07, -3.25705926e+04]),\n",
       " array([ 1.45771982e-07, -2.04683303e+04]),\n",
       " array([ 9.16388324e-08, -1.28475962e+04]),\n",
       " array([ 5.75873226e-08, -8.04649290e+03]),\n",
       " array([ 3.61805563e-08, -5.01451034e+03]),\n",
       " array([ 2.27280896e-08, -3.08837230e+03]),\n",
       " array([ 1.42763989e-08, -1.85179907e+03]),\n",
       " array([ 8.96766063e-09, -1.05204585e+03]),\n",
       " array([ 5.63433586e-09, -5.48020607e+02]),\n",
       " array([ 3.54384038e-09, -2.58086864e+02]),\n",
       " array([ 2.23880154e-09, -1.12287620e+02]),\n",
       " array([ 1.43922774e-09, -4.72530023e+01]),\n",
       " array([ 9.87697096e-10, -2.06618006e+01]),\n",
       " array([ 8.31607401e-10, -1.08925028e+01]),\n",
       " array([ 1.05323370e-09, -8.55848144e+00]),\n",
       " array([ 1.98867245e-09, -1.00843837e+01]),\n",
       " array([ 4.53913503e-09, -1.44996688e+01]),\n",
       " array([ 1.09017243e-08, -2.20868586e+01]),\n",
       " array([ 2.61516459e-08, -3.38388420e+01]),\n",
       " array([ 6.12905754e-08, -5.11428256e+01]),\n",
       " array([ 1.37953586e-07, -7.53001643e+01]),\n",
       " array([ 2.92309441e-07, -1.06556667e+02]),\n",
       " array([ 5.68952081e-07, -1.42572506e+02]),\n",
       " array([ 9.89762665e-07, -1.77092619e+02]),\n",
       " array([ 1.50011905e-06, -2.00722260e+02]),\n",
       " array([ 1.94764521e-06, -2.05199966e+02]),\n",
       " array([ 2.16009799e-06, -1.88797482e+02]),\n",
       " array([ 2.07191764e-06, -1.57593284e+02]),\n",
       " array([ 1.75910040e-06, -1.21202331e+02]),\n",
       " array([ 1.35866655e-06, -8.74727963e+01]),\n",
       " array([ 9.79548467e-07, -6.02739466e+01]),\n",
       " array([ 6.73262996e-07, -4.02183698e+01]),\n",
       " array([ 4.48147885e-07, -2.62622131e+01]),\n",
       " array([ 2.92100318e-07, -1.69055408e+01]),\n",
       " array([ 1.87824278e-07, -1.07790068e+01]),\n",
       " array([ 1.19730977e-07, -6.82533786e+00]),\n",
       " array([ 7.59051047e-08, -4.29414778e+00]),\n",
       " array([ 4.79540903e-08, -2.67723646e+00]),\n",
       " array([ 3.02298431e-08, -1.64013552e+00]),\n",
       " array([ 1.90319531e-08, -9.69006283e-01]),\n",
       " array([ 1.19758312e-08, -5.35551035e-01]),\n",
       " array([ 7.54230949e-09, -2.69188192e-01]),\n",
       " array([ 4.77537607e-09, -1.23286147e-01]),\n",
       " array([ 3.09053916e-09, -5.37230239e-02]),\n",
       " array([ 2.16857214e-09, -2.43422117e-02]),\n",
       " array([ 1.93035643e-09, -1.36526047e-02]),\n",
       " array([ 2.62249630e-09, -1.15785048e-02]),\n",
       " array([ 5.10281604e-09, -1.41735738e-02]),\n",
       " array([ 1.15108747e-08, -2.03393355e-02]),\n",
       " array([ 2.66038854e-08, -3.02244429e-02]),\n",
       " array([ 5.98943291e-08, -4.43406222e-02]),\n",
       " array([ 1.27634373e-07, -6.27364762e-02]),\n",
       " array([ 2.50724922e-07, -8.39489184e-02]),\n",
       " array([ 4.4154409e-07, -1.0405761e-01]),\n",
       " array([ 6.79142878e-07, -1.16967213e-01]),\n",
       " array([ 8.95996158e-07, -1.16953874e-01]),\n",
       " array([ 1.00952884e-06, -1.02389334e-01]),\n",
       " array([ 9.82032662e-07, -7.74746943e-02]),\n",
       " array([ 8.43430786e-07, -5.02400006e-02]),\n",
       " array([ 6.57312681e-07, -2.80582030e-02]),\n",
       " array([ 4.77427835e-07, -1.38463637e-02]),\n",
       " array([ 3.31091690e-07, -6.27844043e-03]),\n",
       " array([ 2.25008157e-07, -2.72872144e-03]),\n",
       " array([ 1.57132639e-07, -1.20327120e-03]),\n",
       " array([ 1.27049218e-07, -6.07668133e-04]),\n",
       " array([ 1.46450220e-07, -4.33509364e-04]),\n",
       " array([ 2.57222083e-07, -4.72676005e-04]),\n",
       " array([ 5.72505445e-07, -6.58901201e-04]),\n",
       " array([ 1.37256119e-06, -9.94949253e-04]),\n",
       " array([ 3.31800841e-06, -1.52136621e-03]),\n",
       " array([ 7.87901011e-06, -2.29864442e-03]),\n",
       " array([ 1.80377005e-05, -3.38244857e-03]),\n",
       " array([ 3.89092920e-05, -4.77343594e-03]),\n",
       " array([ 7.67035007e-05, -6.33374959e-03]),\n",
       " array([ 0.00013345, -0.00770789]),\n",
       " array([ 0.00019918, -0.00836947]),\n",
       " array([ 0.00025272, -0.00791689]),\n",
       " array([ 0.00027671, -0.00646391]),\n",
       " array([ 0.00027278, -0.00465707]),\n",
       " array([ 0.00026398, -0.00320406]),\n",
       " array([ 0.00029104, -0.00246336]),\n",
       " array([ 0.00041436, -0.00246862]),\n",
       " array([ 0.00071576, -0.00315968]),\n",
       " array([ 0.0012765 , -0.00453153]),\n",
       " array([ 0.00213948, -0.00664837]),\n",
       " array([ 0.00330019, -0.00956278]),\n",
       " array([ 0.00469685, -0.01316319]),\n",
       " array([ 0.00615689, -0.01699254]),\n",
       " array([ 0.00736538, -0.02018468]),\n",
       " array([ 0.00795606, -0.02173032]),\n",
       " array([ 0.0077199 , -0.02105015]),\n",
       " array([ 0.00675584, -0.01840537]),\n",
       " array([ 0.00540033, -0.01470547]),\n",
       " array([ 0.00401337, -0.01092572])]"
      ]
     },
     "execution_count": 7,
     "metadata": {},
     "output_type": "execute_result"
    }
   ],
   "source": [
    "O = np.column_stack((x2, y2))\n",
    "v = []\n",
    "for i in range(len(O) - 1):\n",
    "    v.append(O[i+1]-O[i])\n",
    "v"
   ]
  },
  {
   "cell_type": "code",
   "execution_count": 8,
   "id": "cetZUBpIf_gF",
   "metadata": {
    "colab": {
     "base_uri": "https://localhost:8080/"
    },
    "id": "cetZUBpIf_gF",
    "outputId": "3b29b209-2951-4960-ecc4-b930210cc5d6"
   },
   "outputs": [
    {
     "data": {
      "text/plain": [
       "86"
      ]
     },
     "execution_count": 8,
     "metadata": {},
     "output_type": "execute_result"
    }
   ],
   "source": [
    "cos = []\n",
    "#array([-0.00443861,  0.01208635]) = v[0]\n",
    "for i in range(len(v)-1):\n",
    "    v1_norm = np.linalg.norm(v[i])\n",
    "    v2_norm = np.linalg.norm(v[i+1])\n",
    "    v_cos = np.dot(v[i], v[i+1])/(v1_norm*v2_norm)\n",
    "    cos.append(v_cos)\n",
    "a = np.argmin(cos)\n",
    "a"
   ]
  },
  {
   "cell_type": "code",
   "execution_count": 36,
   "id": "_ACj7R8dhy6q",
   "metadata": {
    "colab": {
     "base_uri": "https://localhost:8080/"
    },
    "id": "_ACj7R8dhy6q",
    "outputId": "78b7bb40-aee4-4861-9f16-cf5ca37baf52"
   },
   "outputs": [
    {
     "data": {
      "text/plain": [
       "4.229242874389499e-18"
      ]
     },
     "execution_count": 36,
     "metadata": {},
     "output_type": "execute_result"
    }
   ],
   "source": [
    "min_al = -20\n",
    "al = np.linspace(0, min_al, 100)\n",
    "alpha = 10**al[a]\n",
    "alpha"
   ]
  },
  {
   "cell_type": "code",
   "execution_count": 37,
   "id": "eGKFGyNch5n1",
   "metadata": {
    "id": "eGKFGyNch5n1"
   },
   "outputs": [],
   "source": [
    "hatQ = sol_Tik(alpha, T, F)\n",
    "nF = noise_data(F, delta = delta)"
   ]
  },
  {
   "cell_type": "code",
   "execution_count": 25,
   "id": "696ecc6a",
   "metadata": {},
   "outputs": [],
   "source": [
    "hatQ\n",
    "np.savetxt('hatQ.txt', hatQ, fmt='%8f', delimiter = ',', header='')"
   ]
  },
  {
   "cell_type": "code",
   "execution_count": 38,
   "id": "31cd735b",
   "metadata": {},
   "outputs": [
    {
     "data": {
      "text/plain": [
       "array([[-0.0961461 , -0.61781972,  0.01137637, ..., -0.37471043,\n",
       "        -0.14930049,  0.17015645],\n",
       "       [-0.16424991,  0.23856541,  0.39347394, ...,  0.309845  ,\n",
       "        -0.25550041, -0.54063954],\n",
       "       [ 0.18038404, -0.12291229, -0.46457865, ..., -0.37773583,\n",
       "         0.3368609 , -0.16522359],\n",
       "       [ 0.41688054, -0.10325335,  0.33979974, ...,  0.09491097,\n",
       "        -0.16447492, -0.23564614],\n",
       "       [-0.26994924, -0.20937362,  0.04751796, ..., -0.40888682,\n",
       "         0.24901696, -0.08862698]])"
      ]
     },
     "execution_count": 38,
     "metadata": {},
     "output_type": "execute_result"
    }
   ],
   "source": [
    "Q.T"
   ]
  },
  {
   "cell_type": "code",
   "execution_count": 39,
   "id": "927ac4ac",
   "metadata": {},
   "outputs": [
    {
     "data": {
      "text/plain": [
       "array([[-9.61461047e-02, -6.17819723e-01,  1.13763710e-02, ...,\n",
       "        -3.74710431e-01, -1.49300493e-01,  1.70156448e-01],\n",
       "       [-1.64249907e-01,  2.38565413e-01,  3.93473941e-01, ...,\n",
       "         3.09844997e-01, -2.55500406e-01, -5.40639545e-01],\n",
       "       [ 1.80384035e-01, -1.22912291e-01, -4.64578653e-01, ...,\n",
       "        -3.77735830e-01,  3.36860899e-01, -1.65223594e-01],\n",
       "       [ 4.16741369e-01, -1.03218881e-01,  3.39686302e-01, ...,\n",
       "         9.48792806e-02, -1.64420014e-01, -2.35567468e-01],\n",
       "       [-1.23104971e-05, -9.54806654e-06,  2.16696162e-06, ...,\n",
       "        -1.86464684e-05,  1.13559219e-05, -4.04165667e-06]])"
      ]
     },
     "execution_count": 39,
     "metadata": {},
     "output_type": "execute_result"
    }
   ],
   "source": [
    "hatQ"
   ]
  },
  {
   "cell_type": "code",
   "execution_count": 40,
   "id": "a026ab06",
   "metadata": {},
   "outputs": [
    {
     "data": {
      "text/plain": [
       "array([[-3.53701753e-02, -2.27283174e-01,  4.18513302e-03, ...,\n",
       "        -1.37848264e-01, -5.49245820e-02,  6.25970590e-02],\n",
       "       [-3.00834198e-03,  4.36947795e-03,  7.20672662e-03, ...,\n",
       "         5.67500908e-03, -4.67965317e-03, -9.90215867e-03],\n",
       "       [ 2.22611584e-05, -1.51685818e-05, -5.73335605e-05, ...,\n",
       "        -4.66163048e-05,  4.15719375e-05, -2.03902114e-05],\n",
       "       [ 4.69137246e-08, -1.16196339e-08,  3.82394233e-08, ...,\n",
       "         1.06808221e-08, -1.85092142e-08, -2.65184791e-08],\n",
       "       [-3.74903996e-12, -2.90776910e-12,  6.59926699e-13, ...,\n",
       "        -5.67859726e-12,  3.45833353e-12, -1.23084651e-12]])"
      ]
     },
     "execution_count": 40,
     "metadata": {},
     "output_type": "execute_result"
    }
   ],
   "source": [
    "F"
   ]
  },
  {
   "cell_type": "code",
   "execution_count": 41,
   "id": "ff278e51",
   "metadata": {},
   "outputs": [
    {
     "data": {
      "text/plain": [
       "array([[-3.54798001e-02, -2.27283424e-01,  4.18512389e-03, ...,\n",
       "        -1.37848415e-01, -5.49246424e-02,  6.25969895e-02],\n",
       "       [-3.32237662e-03,  4.36876407e-03,  7.20670045e-03, ...,\n",
       "         5.67457582e-03, -4.67982628e-03, -9.90235769e-03],\n",
       "       [-8.72265859e-05, -1.54174750e-05, -5.73426852e-05, ...,\n",
       "        -4.67673596e-05,  4.15115839e-05, -2.04595997e-05],\n",
       "       [ 1.59832058e-04,  3.51612221e-07,  5.15559151e-08, ...,\n",
       "         2.31128458e-07,  6.95700996e-08,  7.47460410e-08],\n",
       "       [-1.91848692e-04, -4.36123270e-07, -1.59880073e-08, ...,\n",
       "        -2.64689795e-07, -1.05750433e-07, -1.21586160e-07]])"
      ]
     },
     "execution_count": 41,
     "metadata": {},
     "output_type": "execute_result"
    }
   ],
   "source": [
    "nF"
   ]
  },
  {
   "cell_type": "code",
   "execution_count": 42,
   "id": "02b7c1a5",
   "metadata": {},
   "outputs": [
    {
     "data": {
      "text/plain": [
       "22000.71012496892"
      ]
     },
     "execution_count": 42,
     "metadata": {},
     "output_type": "execute_result"
    }
   ],
   "source": [
    "np.linalg.cond(hatQ)"
   ]
  },
  {
   "cell_type": "code",
   "execution_count": 43,
   "id": "11caf635",
   "metadata": {},
   "outputs": [
    {
     "data": {
      "text/plain": [
       "(5, 100000)"
      ]
     },
     "execution_count": 43,
     "metadata": {},
     "output_type": "execute_result"
    }
   ],
   "source": [
    "nF.shape"
   ]
  },
  {
   "cell_type": "code",
   "execution_count": 44,
   "id": "21fe1495",
   "metadata": {},
   "outputs": [
    {
     "data": {
      "text/plain": [
       "95.35715243227611"
      ]
     },
     "execution_count": 44,
     "metadata": {},
     "output_type": "execute_result"
    }
   ],
   "source": [
    "np.linalg.norm(Q.T-hatQ)"
   ]
  },
  {
   "cell_type": "code",
   "execution_count": 33,
   "id": "c8b7d951",
   "metadata": {},
   "outputs": [
    {
     "data": {
      "text/plain": [
       "(5, 100000)"
      ]
     },
     "execution_count": 33,
     "metadata": {},
     "output_type": "execute_result"
    }
   ],
   "source": [
    "hatQ.shape"
   ]
  },
  {
   "cell_type": "code",
   "execution_count": 48,
   "id": "f6eba143",
   "metadata": {
    "scrolled": true
   },
   "outputs": [
    {
     "data": {
      "text/plain": [
       "array([10.        ,  4.2464806 ,  2.47982256,  1.76891773,  1.43076272,\n",
       "        1.25227871,  1.15175226,  1.09278641,  1.05730743,  1.03561686,\n",
       "        1.02222261,  1.01389935,  1.00870677,  1.00545929,  1.00342512,\n",
       "        1.00214971,  1.00134954,  1.00084734,  1.00053207,  1.00033412,\n",
       "        1.00020982,  1.00013177,  1.00008275,  1.00005197,  1.00003264,\n",
       "        1.0000205 ,  1.00001287,  1.00000808,  1.00000508,  1.00000319,\n",
       "        1.000002  ,  1.00000126,  1.00000079,  1.0000005 ,  1.00000031,\n",
       "        1.0000002 ,  1.00000012,  1.00000008,  1.00000005,  1.00000003,\n",
       "        1.00000002,  1.00000001,  1.00000001,  1.        ,  1.        ,\n",
       "        1.        ,  1.        ,  1.        ,  1.        ,  1.        ,\n",
       "        1.        ,  1.        ,  1.        ,  1.        ,  1.        ,\n",
       "        1.        ,  1.        ,  1.        ,  1.        ,  1.        ,\n",
       "        1.        ,  1.        ,  1.        ,  1.        ,  1.        ,\n",
       "        1.        ,  1.        ,  1.        ,  1.        ,  1.        ,\n",
       "        1.        ,  1.        ,  1.        ,  1.        ,  1.        ,\n",
       "        1.        ,  1.        ,  1.        ,  1.        ,  1.        ,\n",
       "        1.        ,  1.        ,  1.        ,  1.        ,  1.        ,\n",
       "        1.        ,  1.        ,  1.        ,  1.        ,  1.        ,\n",
       "        1.        ,  1.        ,  1.        ,  1.        ,  1.        ,\n",
       "        1.        ,  1.        ,  1.        ,  1.        ,  1.        ])"
      ]
     },
     "execution_count": 48,
     "metadata": {},
     "output_type": "execute_result"
    }
   ],
   "source": [
    "al = 10**al\n",
    "al"
   ]
  },
  {
   "cell_type": "code",
   "execution_count": 35,
   "id": "459f9754",
   "metadata": {},
   "outputs": [
    {
     "data": {
      "text/plain": [
       "array([[1.25661180e-03, 8.82258016e+05],\n",
       "       [1.25889430e-03, 5.58013087e+05],\n",
       "       [1.26035060e-03, 3.52018295e+05],\n",
       "       [1.26127436e-03, 2.21704678e+05],\n",
       "       [1.26185816e-03, 1.39490570e+05],\n",
       "       [1.26222625e-03, 8.77126635e+04],\n",
       "       [1.26245800e-03, 5.51420709e+04],\n",
       "       [1.26260378e-03, 3.46737406e+04],\n",
       "       [1.26269541e-03, 2.18261444e+04],\n",
       "       [1.26275300e-03, 1.37796515e+04],\n",
       "       [1.26278918e-03, 8.76514118e+03],\n",
       "       [1.26281191e-03, 5.67676888e+03],\n",
       "       [1.26282619e-03, 3.82496981e+03],\n",
       "       [1.26283515e-03, 2.77292397e+03],\n",
       "       [1.26284079e-03, 2.22490336e+03],\n",
       "       [1.26284433e-03, 1.96681650e+03],\n",
       "       [1.26284657e-03, 1.85452888e+03],\n",
       "       [1.26284801e-03, 1.80727587e+03],\n",
       "       [1.26284900e-03, 1.78661407e+03],\n",
       "       [1.26284983e-03, 1.77572157e+03],\n",
       "       [1.26285088e-03, 1.76716309e+03],\n",
       "       [1.26285287e-03, 1.75707870e+03],\n",
       "       [1.26285741e-03, 1.74257904e+03],\n",
       "       [1.26286831e-03, 1.72049218e+03],\n",
       "       [1.26289446e-03, 1.68665333e+03],\n",
       "       [1.26295575e-03, 1.63551051e+03],\n",
       "       [1.26309371e-03, 1.56021034e+03],\n",
       "       [1.26338602e-03, 1.45365368e+03],\n",
       "       [1.26395497e-03, 1.31108117e+03],\n",
       "       [1.26494473e-03, 1.13398855e+03],\n",
       "       [1.26644485e-03, 9.33266293e+02],\n",
       "       [1.26839250e-03, 7.28066327e+02],\n",
       "       [1.27055259e-03, 5.39268845e+02],\n",
       "       [1.27262451e-03, 3.81675561e+02],\n",
       "       [1.27438361e-03, 2.60473230e+02],\n",
       "       [1.27574228e-03, 1.73000434e+02],\n",
       "       [1.27672183e-03, 1.12726488e+02],\n",
       "       [1.27739509e-03, 7.25081177e+01],\n",
       "       [1.27784324e-03, 4.62459047e+01],\n",
       "       [1.27813534e-03, 2.93403639e+01],\n",
       "       [1.27832316e-03, 1.85613571e+01],\n",
       "       [1.27844289e-03, 1.17360192e+01],\n",
       "       [1.27851880e-03, 7.44187142e+00],\n",
       "       [1.27856675e-03, 4.76463495e+00],\n",
       "       [1.27859698e-03, 3.12449944e+00],\n",
       "       [1.27861602e-03, 2.15549315e+00],\n",
       "       [1.27862799e-03, 1.61994212e+00],\n",
       "       [1.27863553e-03, 1.35075393e+00],\n",
       "       [1.27864031e-03, 1.22746778e+00],\n",
       "       [1.27864340e-03, 1.17374475e+00],\n",
       "       [1.27864557e-03, 1.14940254e+00],\n",
       "       [1.27864750e-03, 1.13574994e+00],\n",
       "       [1.27865012e-03, 1.12417143e+00],\n",
       "       [1.27865522e-03, 1.10999786e+00],\n",
       "       [1.27866673e-03, 1.08965852e+00],\n",
       "       [1.27869334e-03, 1.05943408e+00],\n",
       "       [1.27875323e-03, 1.01509346e+00],\n",
       "       [1.27888087e-03, 9.52356983e-01],\n",
       "       [1.27913159e-03, 8.68408065e-01],\n",
       "       [1.27957314e-03, 7.64350455e-01],\n",
       "       [1.28025228e-03, 6.47383242e-01],\n",
       "       [1.28114827e-03, 5.30429368e-01],\n",
       "       [1.28215780e-03, 4.28040033e-01],\n",
       "       [1.28313984e-03, 3.50565339e-01],\n",
       "       [1.28398327e-03, 3.00325339e-01],\n",
       "       [1.28464058e-03, 2.72267136e-01],\n",
       "       [1.28511801e-03, 2.58420772e-01],\n",
       "       [1.28544910e-03, 2.52142331e-01],\n",
       "       [1.28567411e-03, 2.49413610e-01],\n",
       "       [1.28583124e-03, 2.48210339e-01],\n",
       "       [1.28595829e-03, 2.47602671e-01],\n",
       "       [1.28610474e-03, 2.47169161e-01],\n",
       "       [1.28636196e-03, 2.46696485e-01],\n",
       "       [1.28693447e-03, 2.46037584e-01],\n",
       "       [1.28830703e-03, 2.45042635e-01],\n",
       "       [1.29162504e-03, 2.43521269e-01],\n",
       "       [1.29950405e-03, 2.41222624e-01],\n",
       "       [1.31754175e-03, 2.37840176e-01],\n",
       "       [1.35645104e-03, 2.33066740e-01],\n",
       "       [1.43315454e-03, 2.26732990e-01],\n",
       "       [1.56659962e-03, 2.19025098e-01],\n",
       "       [1.76577694e-03, 2.10655633e-01],\n",
       "       [2.01849508e-03, 2.02738741e-01],\n",
       "       [2.29520335e-03, 1.96274831e-01],\n",
       "       [2.56798315e-03, 1.91617763e-01],\n",
       "       [2.83196015e-03, 1.88413699e-01],\n",
       "       [3.12300478e-03, 1.85950340e-01],\n",
       "       [3.53736266e-03, 1.83481723e-01],\n",
       "       [4.25311802e-03, 1.80322046e-01],\n",
       "       [5.52961694e-03, 1.75790518e-01],\n",
       "       [7.66909386e-03, 1.69142147e-01],\n",
       "       [1.09692839e-02, 1.59579372e-01],\n",
       "       [1.56661362e-02, 1.46416187e-01],\n",
       "       [2.18230268e-02, 1.29423644e-01],\n",
       "       [2.91884025e-02, 1.09238961e-01],\n",
       "       [3.71444599e-02, 8.75086381e-02],\n",
       "       [4.48643573e-02, 6.64584884e-02],\n",
       "       [5.16201944e-02, 4.80531134e-02],\n",
       "       [5.70205257e-02, 3.33476387e-02],\n",
       "       [6.10338973e-02, 2.24219142e-02]])"
      ]
     },
     "execution_count": 35,
     "metadata": {},
     "output_type": "execute_result"
    }
   ],
   "source": [
    "O"
   ]
  },
  {
   "cell_type": "code",
   "execution_count": 49,
   "id": "57f0daa8",
   "metadata": {},
   "outputs": [
    {
     "data": {
      "text/plain": [
       "(5, 100000)"
      ]
     },
     "execution_count": 49,
     "metadata": {},
     "output_type": "execute_result"
    }
   ],
   "source": [
    "Q.T.shape"
   ]
  },
  {
   "cell_type": "code",
   "execution_count": null,
   "id": "e9a3f9ec",
   "metadata": {},
   "outputs": [],
   "source": []
  }
 ],
 "metadata": {
  "colab": {
   "name": "2021.10.26.ipynb",
   "provenance": []
  },
  "kernelspec": {
   "display_name": "Python 3 (ipykernel)",
   "language": "python",
   "name": "python3"
  },
  "language_info": {
   "codemirror_mode": {
    "name": "ipython",
    "version": 3
   },
   "file_extension": ".py",
   "mimetype": "text/x-python",
   "name": "python",
   "nbconvert_exporter": "python",
   "pygments_lexer": "ipython3",
   "version": "3.8.8"
  }
 },
 "nbformat": 4,
 "nbformat_minor": 5
}
