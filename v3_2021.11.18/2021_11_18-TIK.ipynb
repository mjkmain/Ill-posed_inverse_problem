{
 "cells": [
  {
   "cell_type": "markdown",
   "metadata": {
    "id": "6nP75H4DiluS"
   },
   "source": [
    "# 이해를 위한 정리\n",
    "\n",
    "* $AQ = F$\n",
    "* $Q = A^{-1}F$\n",
    "* $A^TAQ = A^TF  \\to Q = (A^TA)^{-1}A^TF$\n",
    "* $\\alpha Q_\\alpha + A^TAQ_\\alpha = A^TF \\to Q_\\alpha = (\\alpha I + A^TA)^{-1} A^TF$\n",
    "\n",
    "\n",
    "---\n",
    "\n",
    "\n",
    "\n",
    "\n",
    " ## $Q_\\alpha = (\\alpha I + A^TA)^{-1} A^TF$\n",
    "\n",
    " or\n",
    "\n",
    " ## $Q_n = \\frac{F_n}{\\alpha e^{n^2T} + e^{-n^2T}}, \\quad\\quad n = 1, 2, \\cdots , N$\n",
    "\n",
    "\n",
    "\n",
    "```\n",
    "invA = np.diag(1/(alpha*np.exp((np.arange(1, N+1))**2*T)+np.exp(-(np.arange(1, N+1))**2*T)))\n",
    "hatQ = invA@F\n",
    "```\n",
    "\n"
   ]
  },
  {
   "cell_type": "markdown",
   "metadata": {
    "id": "JtyAoVp059M6"
   },
   "source": [
    "# Generate Data \n",
    "\n",
    "\n",
    "*   generate_Q\n",
    "*   sol_act\n",
    "*   noise_data\n",
    "*   sol_Tik\n",
    "*   result_gen_data\n",
    "*   result_Lcurve\n",
    "\n"
   ]
  },
  {
   "cell_type": "code",
   "execution_count": 2,
   "metadata": {
    "id": "f459TdI-52dT"
   },
   "outputs": [],
   "source": [
    "import numpy as np\n",
    "import matplotlib.pyplot as plt\n",
    "import pandas as pd\n",
    "import numpy as np\n",
    "import time\n",
    "\n",
    "T = 1\n",
    "delta = 0.01\n",
    "N = 5\n",
    "M = 1"
   ]
  },
  {
   "cell_type": "code",
   "execution_count": 3,
   "metadata": {
    "id": "qzywCujn5793"
   },
   "outputs": [],
   "source": [
    "def generate_Q(N,  M, tau):\n",
    "    ii = 0\n",
    "    tore = tau*np.sqrt(2/np.pi)\n",
    "    Q = []\n",
    "    while ii < M:\n",
    "        tempQ = 2*tore*np.random.rand(N) - tore\n",
    "        tempQ = np.array(tempQ)\n",
    "        if np.linalg.norm(tempQ) <= tore:\n",
    "            Q = np.append(Q, tempQ)\n",
    "            ii += 1\n",
    "    return (Q.reshape(-1, N))\n",
    "\n",
    "def sol_act(Q, T):\n",
    "    N = len(Q[0])\n",
    "    A = np.diag(np.exp(-(np.arange(1, N+1))**2*T))\n",
    "    F = A@Q.T #A = NxN, Q = MxN, Q.T = NxM , F = NxM\n",
    "    return F\n",
    "\n",
    "def noise_data(F, delta):\n",
    "    e = 2*np.random.rand(len(F[:,0]), len(F[0])) - 1\n",
    "    N = len(F[:])\n",
    "    for m in range(len(F[0])):\n",
    "        norm = np.linalg.norm(F[:,m])\n",
    "        e[:, m] = e[:, 0]*norm*delta\n",
    "    nF = F+e\n",
    "    return nF\n",
    "\n",
    "def sol_Tik(alpha, T, F):\n",
    "    N = len(F[:])\n",
    "    invA = np.diag(1/(alpha*np.exp((np.arange(1, N+1))**2*T)+np.exp(-(np.arange(1, N+1))**2*T))) # A = NxN\n",
    "    hatQ = invA@F \n",
    "    return hatQ\n",
    "\n",
    "def result_gen_data(N, M, tau, Q, delta):\n",
    "    #Q = generate_Q(N, M, tau)\n",
    "    T = 1\n",
    "    F = sol_act(Q, T)\n",
    "    nF = noise_data(F, delta)\n",
    "    np.savetxt('Q.txt', Q.T, fmt='%8f', delimiter = ',', header='')\n",
    "    np.savetxt('F.txt', F, fmt='%8f', delimiter = ',', header='')\n",
    "    np.savetxt('nF.txt', nF, fmt='%8f', delimiter = ',', header='')"
   ]
  },
  {
   "cell_type": "code",
   "execution_count": 4,
   "metadata": {
    "colab": {
     "base_uri": "https://localhost:8080/"
    },
    "id": "Ajr9blR56SX6",
    "outputId": "ab004730-a04d-4d99-b08a-6c01effd4919"
   },
   "outputs": [
    {
     "data": {
      "text/plain": [
       "array([[ 0.28780564, -0.15721741, -0.16575961,  0.13168786,  0.23606265]])"
      ]
     },
     "execution_count": 4,
     "metadata": {},
     "output_type": "execute_result"
    }
   ],
   "source": [
    "Q = generate_Q(N, M, tau = 1)\n",
    "F = sol_act(Q, T)\n",
    "nF = noise_data(F, delta)\n",
    "result_gen_data(N, M, tau = 1, Q = Q, delta = 0.01)\n",
    "Q"
   ]
  },
  {
   "cell_type": "code",
   "execution_count": 5,
   "metadata": {
    "id": "Qym6LRUM6S0q"
   },
   "outputs": [],
   "source": [
    "def result_Lcurve(N, tau, delta, min_al):\n",
    "    #get data\n",
    "    M = 1 #one data set\n",
    "    Q = generate_Q(N, M, tau)\n",
    "    \n",
    "    T = 1\n",
    "    F = sol_act(Q, T)\n",
    "    nF = noise_data(F, delta)\n",
    "    \n",
    "    al = np.linspace(0, min_al, 100)\n",
    "    q1 = []\n",
    "    q2 = []\n",
    "    for ii in range(len(al)):\n",
    "        q1.append(sol_Tik(10**al[ii], T, F))\n",
    "        q2.append(sol_Tik(10**al[ii], T, nF))\n",
    "    q1 = np.array(q1) \n",
    "    q2 = np.array(q2)\n",
    "    \n",
    "    n = np.arange(1, N+1)\n",
    "    A = np.diag(np.exp(-n**2*T))\n",
    "    \n",
    "    x1 = []\n",
    "    x2 = []\n",
    "    y1 = []\n",
    "    y2 = []\n",
    "\n",
    "    for i in range(len(al)):\n",
    "        x1.append(np.linalg.norm(A@q1[i]-F))\n",
    "        y1.append(np.linalg.norm(q1[i]))\n",
    "        x2.append(np.linalg.norm(A@q2[i]-nF))\n",
    "        y2.append(np.linalg.norm(q2[i]))\n",
    "    \n",
    "    fig = plt.figure(figsize = (10,10))\n",
    "    fig.add_subplot(2, 1, 1)\n",
    "    plt.xscale(\"log\")\n",
    "    plt.yscale(\"log\")\n",
    "    #plt.xlabel(\"$\\||Aq-F\\||$\")\n",
    "    plt.plot(x1, y1)\n",
    "    plt.title(\"without noise\")\n",
    "\n",
    "    \n",
    "    fig.add_subplot(2, 1, 2)\n",
    "    plt.xscale(\"log\")\n",
    "    plt.yscale(\"log\")\n",
    "    plt.plot(x2, y2)\n",
    "    plt.title(\"with noise\")     \n",
    "\n",
    "    \n",
    "    plt.savefig('L-curve1')\n",
    "    return np.flip(np.array(x1)), np.flip(np.array(y1)), np.flip(np.array(x2)), np.flip(np.array(y2))"
   ]
  },
  {
   "cell_type": "code",
   "execution_count": 6,
   "metadata": {
    "colab": {
     "base_uri": "https://localhost:8080/",
     "height": 611
    },
    "id": "wC2YcpV-6lPL",
    "outputId": "0b2c817b-aec3-4002-f375-9fbc56af8912"
   },
   "outputs": [
    {
     "data": {
      "image/png": "[encoded data removed]",
      "text/plain": [
       "<Figure size 720x720 with 2 Axes>"
      ]
     },
     "metadata": {
      "needs_background": "light"
     },
     "output_type": "display_data"
    }
   ],
   "source": [
    "x1, y1, x2, y2 = result_Lcurve(10, 1, 0.01, -20)"
   ]
  },
  {
   "cell_type": "markdown",
   "metadata": {
    "id": "FrSjfJSM6u8q"
   },
   "source": [
    "* Find corner of L-curve"
   ]
  },
  {
   "cell_type": "code",
   "execution_count": 6,
   "metadata": {
    "colab": {
     "base_uri": "https://localhost:8080/",
     "height": 282
    },
    "id": "w1_y5K_25yj3",
    "outputId": "6e0e58b1-5211-48e0-eace-24563dd2779b"
   },
   "outputs": [
    {
     "data": {
      "text/plain": [
       "<matplotlib.collections.PathCollection at 0x1666f2e8df0>"
      ]
     },
     "execution_count": 6,
     "metadata": {},
     "output_type": "execute_result"
    },
    {
     "data": {
      "image/png": "[encoded data removed]",
      "text/plain": [
       "<Figure size 432x288 with 1 Axes>"
      ]
     },
     "metadata": {
      "needs_background": "light"
     },
     "output_type": "display_data"
    }
   ],
   "source": [
    "plt.rcParams[\"figure.figsize\"] = (6,4)\n",
    "plt.scatter(x2, y2)\n"
   ]
  },
  {
   "cell_type": "code",
   "execution_count": 7,
   "metadata": {
    "colab": {
     "base_uri": "https://localhost:8080/",
     "height": 269
    },
    "id": "cpVuKsxJ4UlB",
    "outputId": "b4c426c8-3113-4632-e633-f366e4520ef1"
   },
   "outputs": [
    {
     "data": {
      "image/png": "[encoded data removed]",
      "text/plain": [
       "<Figure size 432x288 with 1 Axes>"
      ]
     },
     "metadata": {
      "needs_background": "light"
     },
     "output_type": "display_data"
    }
   ],
   "source": [
    "plt.rcParams[\"figure.figsize\"] = (6,4)\n",
    "plt.scatter(x2, y2)\n",
    "plt.xscale(\"log\")\n",
    "plt.yscale(\"log\")"
   ]
  },
  {
   "cell_type": "code",
   "execution_count": 8,
   "metadata": {
    "colab": {
     "base_uri": "https://localhost:8080/",
     "height": 863
    },
    "id": "GM2b2JDG3va2",
    "outputId": "0d39d662-b425-4f10-e2f2-4c323291e7e8"
   },
   "outputs": [
    {
     "data": {
      "image/png": "[encoded data removed]",
      "text/plain": [
       "<Figure size 1080x1080 with 1 Axes>"
      ]
     },
     "metadata": {
      "needs_background": "light"
     },
     "output_type": "display_data"
    }
   ],
   "source": [
    "log_x2 = np.log10(x2)\n",
    "log_y2 = np.log10(y2)\n",
    "plt.rcParams[\"figure.figsize\"] = (15,15)\n",
    "plt.scatter(log_x2, log_y2, s = 10)\n",
    "\n",
    "\n",
    "plt.savefig(\"log_x2\")"
   ]
  },
  {
   "cell_type": "markdown",
   "metadata": {
    "id": "M3qikAahMGp0"
   },
   "source": [
    "### 동일한 linspace로 자른 후 cos 값 구하기 --> 정밀성이 너무 떨어짐"
   ]
  },
  {
   "cell_type": "code",
   "execution_count": 9,
   "metadata": {
    "id": "NfSK29NYFLEg"
   },
   "outputs": [],
   "source": [
    "T = 1\n",
    "Q = [-0.20246986, -0.21417431, -0.43702449, -0.45168872,  0.27545179]\n",
    "F = sol_act(Q, T)\n",
    "\n",
    "al = np.linspace(0, min_al, 100)\n",
    "    q1 = []\n",
    "    q2 = []\n",
    "    for ii in range(len(al)):\n",
    "        q1.append(sol_Tik(10**al[ii], T, F))\n",
    "        q2.append(sol_Tik(10**al[ii], T, nF))\n",
    "    q1 = np.array(q1) \n",
    "    q2 = np.array(q2)\n",
    "    \n",
    "    n = np.arange(1, N+1)\n",
    "    A = np.diag(np.exp(-n**2*T))\n",
    "    \n",
    "    x1 = []\n",
    "    x2 = []\n",
    "    y1 = []\n",
    "    y2 = []\n",
    "\n",
    "    for i in range(len(al)):\n",
    "        x1.append(np.linalg.norm(A@q1[i]-F))\n",
    "        y1.append(np.linalg.norm(q1[i]))\n",
    "        x2.append(np.linalg.norm(A@q2[i]-nF))\n",
    "        y2.append(np.linalg.norm(q2[i]))\n",
    "        \n",
    "    x1 = np.flip(np.array(x1)) \n",
    "    y1 = np.flip(np.array(y1)) \n",
    "    x2 = np.flip(np.array(x2)) \n",
    "    y2 = np.flip(np.array(y2))    \n"
   ]
  },
  {
   "cell_type": "markdown",
   "metadata": {
    "id": "CTYxfdpuM67t"
   },
   "source": [
    "## v[i]$\\bullet$v[i+k] 사용하여 cos 구하기"
   ]
  },
  {
   "cell_type": "code",
   "execution_count": 21,
   "metadata": {
    "colab": {
     "base_uri": "https://localhost:8080/"
    },
    "id": "Y1xiROiWHjDP",
    "outputId": "a86c58cb-ade0-42ff-88d8-2c678f543012"
   },
   "outputs": [],
   "source": [
    "def find_best_idx(log_x2, log_y2):\n",
    "    O = np.column_stack((log_x2, log_y2))\n",
    "    v = []\n",
    "    k = 10\n",
    "    for i in range(len(O) - 1 - k):\n",
    "        v.append(O[i+k]-O[i])\n",
    "    v\n",
    "\n",
    "    cos = []\n",
    "\n",
    "    for i in range(len(v)-1-k):\n",
    "        v1_norm = np.linalg.norm(v[i])\n",
    "        v2_norm = np.linalg.norm(v[i+k])\n",
    "        v_cos = np.dot(v[i], v[i+k])/(v1_norm*v2_norm)\n",
    "        cos.append(v_cos)\n",
    "    a = np.argmin(cos) + k\n",
    "    return a   "
   ]
  },
  {
   "cell_type": "code",
   "execution_count": 22,
   "metadata": {
    "colab": {
     "base_uri": "https://localhost:8080/"
    },
    "id": "Di5v1yGcNpz1",
    "outputId": "697c3d77-c633-443e-9827-3bad3f667727"
   },
   "outputs": [
    {
     "data": {
      "text/plain": [
       "7.05480231071866e-16"
      ]
     },
     "execution_count": 22,
     "metadata": {},
     "output_type": "execute_result"
    }
   ],
   "source": [
    "a = find_best_idx(log_x2, log_y2)\n",
    "al = np.linspace(0, -20, 100)\n",
    "alpha = 10**al[a]\n",
    "alpha"
   ]
  },
  {
   "cell_type": "code",
   "execution_count": 25,
   "metadata": {},
   "outputs": [
    {
     "data": {
      "text/plain": [
       "array([[ 0.43643866, -0.21227163,  0.16030671, -0.04246617, -0.07791579],\n",
       "       [ 0.06669045,  0.02980045,  0.42346725,  0.1465251 , -0.60665306],\n",
       "       [-0.51183298,  0.29135159,  0.2209332 , -0.05636336, -0.21676022],\n",
       "       ...,\n",
       "       [-0.24330259,  0.07801745, -0.33276529,  0.06391149,  0.45519362],\n",
       "       [-0.25026278, -0.06909089, -0.07615394, -0.57732413, -0.47946228],\n",
       "       [ 0.43710765, -0.35372984,  0.16279636, -0.15957175,  0.15788423]])"
      ]
     },
     "execution_count": 25,
     "metadata": {},
     "output_type": "execute_result"
    }
   ],
   "source": [
    "# 모든 Q의 데이터 (M개)에 대하여 alpha값 뽑아내기 !!!!"
   ]
  },
  {
   "cell_type": "code",
   "execution_count": 12,
   "metadata": {
    "id": "4G78S8Id7By6"
   },
   "outputs": [],
   "source": [
    "hatQ = sol_Tik(alpha, T, F)\n",
    "nF = noise_data(F, delta = delta)\n",
    "\n",
    "np.savetxt('hatQ.txt', hatQ, fmt='%8f', delimiter = ',', header='')"
   ]
  },
  {
   "cell_type": "code",
   "execution_count": 13,
   "metadata": {
    "id": "Ev3P8uWXXa8P"
   },
   "outputs": [],
   "source": [
    "arr = []\n",
    "for i in range(M):\n",
    "    arr.append(i+1)"
   ]
  },
  {
   "cell_type": "code",
   "execution_count": 14,
   "metadata": {
    "id": "CE_ORsOJncVq"
   },
   "outputs": [],
   "source": [
    "#load data\n",
    "#column name에 data가 들어가있기 때문에 \"names = arr\" 로 처리해 줍니다. arr은 1 ~ len(F)의 숫자가 담겨있습니다.\n",
    "dataF = pd.read_csv('C:/Users/Administrator/F.txt', sep = ',', names = arr)\n",
    "#dataQ = pd.read_csv('C:/Users/Administrator/Q.txt', sep = ',', names = arr).to_numpy().T\n",
    "dataQ = pd.read_csv('C:/Users/Administrator/hatQ.txt', sep = ',', names = arr)\n",
    "data_nF = pd.read_csv('C:/Users/Administrator/nF.txt', sep = ',', names = arr)"
   ]
  },
  {
   "cell_type": "code",
   "execution_count": 15,
   "metadata": {},
   "outputs": [],
   "source": [
    "def make_arr(A):\n",
    "    arA = []\n",
    "    for j in range(len(A.iloc[0, :])):\n",
    "        arA1 = []\n",
    "        for i in range(len(A.iloc[:,0])):\n",
    "            tmpA = A.iloc[:,j][i]\n",
    "            arA1.append(tmpA)\n",
    "        arA.append(arA1)\n",
    "    return arA\n",
    "\n",
    "#make array\n",
    "arrF = make_arr(dataF)\n",
    "dataF = np.array(arrF)\n",
    "\n",
    "arrQ = make_arr(dataQ)\n",
    "dataQ = np.array(arrQ)\n",
    "\n",
    "arr_nF = make_arr(data_nF)\n",
    "data_nF = np.array(arr_nF)"
   ]
  },
  {
   "cell_type": "code",
   "execution_count": 16,
   "metadata": {
    "colab": {
     "base_uri": "https://localhost:8080/"
    },
    "id": "iaFCQA-SojWq",
    "outputId": "06bdd489-aae1-4bc7-a7f5-b39e0b82add5"
   },
   "outputs": [
    {
     "name": "stdout",
     "output_type": "stream",
     "text": [
      "(60000, 5), (20000, 5), (20000, 5)\n",
      "(60000, 5), (20000, 5), (20000, 5)\n",
      "(60000, 5), (20000, 5), (20000, 5)\n"
     ]
    }
   ],
   "source": [
    "import math\n",
    "train_size = math.floor(len(dataF)*0.6) # train : 60%\n",
    "val_size = math.floor(len(dataF)*0.2) #val : 20%\n",
    "test_size = math.floor(len(dataF)*0.2) #test : 20%\n",
    "#generate F_data, F_val, F_test\n",
    "F_data = dataF[:train_size, :]\n",
    "F_val = dataF[train_size:(val_size + train_size), :]\n",
    "F_test = dataF[(val_size + train_size):(val_size + train_size + test_size), :]\n",
    "\n",
    "#generate Q_data, Q_val, Q_test\n",
    "Q_data = dataQ[:train_size, :]\n",
    "Q_val = dataQ[train_size:(val_size + train_size), :]\n",
    "Q_test = dataQ[(val_size + train_size):(val_size + train_size + test_size), :]\n",
    "\n",
    "#generate nF_data, nF_val, nF_test\n",
    "nF_data = data_nF[:train_size, :]\n",
    "nF_val = data_nF[train_size:(val_size + train_size), :]\n",
    "nF_test = data_nF[(val_size + train_size):(val_size + train_size + test_size), :]\n",
    "\n",
    "print(f'{F_data.shape}, {F_test.shape}, {F_val.shape}')\n",
    "print(f'{Q_data.shape}, {Q_test.shape}, {Q_val.shape}')\n",
    "print(f'{nF_data.shape}, {nF_test.shape}, {nF_val.shape}')"
   ]
  },
  {
   "cell_type": "code",
   "execution_count": 17,
   "metadata": {
    "id": "lYFPm85VU_8m"
   },
   "outputs": [],
   "source": [
    "import tensorflow as tf\n",
    "from tensorflow import keras\n",
    "\n",
    "model = keras.models.Sequential() #Sequential\n",
    "\n",
    "model.add(keras.layers.Dense(input_dim = N, units = 10, activation= \"tanh\",kernel_initializer =\"HeNormal\" )) \n",
    "model.add(keras.layers.Dense(20, activation= \"tanh\")) \n",
    "model.add(keras.layers.Dense(50, activation= \"tanh\"))  \n",
    "model.add(keras.layers.Dense(100, activation= \"tanh\")) \n",
    "model.add(keras.layers.Dense(120, activation= \"tanh\")) \n",
    "model.add(keras.layers.Dense(50, activation= \"tanh\"))\n",
    "model.add(keras.layers.Dense(N, activation= \"tanh\"))"
   ]
  },
  {
   "cell_type": "code",
   "execution_count": 18,
   "metadata": {
    "colab": {
     "base_uri": "https://localhost:8080/"
    },
    "id": "ktp8oE6nYauf",
    "outputId": "99777f50-04f5-4d53-dff7-fd6b0f54b552"
   },
   "outputs": [
    {
     "data": {
      "text/plain": [
       "<tensorflow.python.keras.callbacks.EarlyStopping at 0x1667bb708b0>"
      ]
     },
     "execution_count": 18,
     "metadata": {},
     "output_type": "execute_result"
    }
   ],
   "source": [
    "with tf.device('/GPU:0'):\n",
    "    F_train = tf.constant(F_data)\n",
    "    Q_train = tf.constant(Q_data)\n",
    "    nF_train = tf.constant(nF_data)\n",
    "tf.keras.callbacks.EarlyStopping(\n",
    "    monitor='val_loss', min_delta=0, patience=0, verbose=0,\n",
    "    mode='auto', baseline=None, restore_best_weights=False\n",
    ")"
   ]
  },
  {
   "cell_type": "code",
   "execution_count": 19,
   "metadata": {
    "colab": {
     "base_uri": "https://localhost:8080/",
     "height": 494
    },
    "id": "tUW16hZZYecK",
    "outputId": "21a2d7ce-2945-419f-f3df-5c09ec4872da"
   },
   "outputs": [
    {
     "name": "stdout",
     "output_type": "stream",
     "text": [
      "Epoch 1/500\n",
      "   1/1875 [..............................] - ETA: 0s - loss: 0.0733 - accuracy: 0.2188"
     ]
    },
    {
     "name": "stderr",
     "output_type": "stream",
     "text": [
      "WARNING: Logging before flag parsing goes to stderr.\n",
      "W1118 04:44:36.118689 18500 callbacks.py:325] Callbacks method `on_train_batch_end` is slow compared to the batch time (batch time: 0.0000s vs `on_train_batch_end` time: 0.0010s). Check your callbacks.\n"
     ]
    },
    {
     "name": "stdout",
     "output_type": "stream",
     "text": [
      "1875/1875 [==============================] - 1s 526us/step - loss: 0.0353 - accuracy: 0.5535 - val_loss: 0.0346 - val_accuracy: 0.5652\n",
      "Epoch 2/500\n",
      "1875/1875 [==============================] - 1s 477us/step - loss: 0.0348 - accuracy: 0.5575 - val_loss: 0.0346 - val_accuracy: 0.5669\n",
      "Epoch 3/500\n",
      "1875/1875 [==============================] - 1s 464us/step - loss: 0.0347 - accuracy: 0.5601 - val_loss: 0.0346 - val_accuracy: 0.5557\n",
      "Epoch 4/500\n",
      "1875/1875 [==============================] - 1s 461us/step - loss: 0.0347 - accuracy: 0.5551 - val_loss: 0.0346 - val_accuracy: 0.5666\n",
      "Epoch 5/500\n",
      "1875/1875 [==============================] - 1s 470us/step - loss: 0.0347 - accuracy: 0.5563 - val_loss: 0.0345 - val_accuracy: 0.5652\n",
      "Epoch 6/500\n",
      "1875/1875 [==============================] - 1s 466us/step - loss: 0.0346 - accuracy: 0.5570 - val_loss: 0.0349 - val_accuracy: 0.5485\n",
      "Epoch 7/500\n",
      "1875/1875 [==============================] - 1s 468us/step - loss: 0.0295 - accuracy: 0.6188 - val_loss: 0.0255 - val_accuracy: 0.6518\n",
      "Epoch 8/500\n",
      "1875/1875 [==============================] - 1s 474us/step - loss: 0.0177 - accuracy: 0.7397 - val_loss: 0.0171 - val_accuracy: 0.7556\n",
      "Epoch 9/500\n",
      "1875/1875 [==============================] - 1s 471us/step - loss: 0.0173 - accuracy: 0.7466 - val_loss: 0.0167 - val_accuracy: 0.7605\n",
      "Epoch 10/500\n",
      "1875/1875 [==============================] - 1s 468us/step - loss: 0.0170 - accuracy: 0.7505 - val_loss: 0.0169 - val_accuracy: 0.7464\n",
      "Epoch 11/500\n",
      "1875/1875 [==============================] - 1s 476us/step - loss: 0.0169 - accuracy: 0.7522 - val_loss: 0.0166 - val_accuracy: 0.7592\n",
      "Epoch 12/500\n",
      "1875/1875 [==============================] - 1s 471us/step - loss: 0.0169 - accuracy: 0.7522 - val_loss: 0.0172 - val_accuracy: 0.7370\n",
      "Epoch 13/500\n",
      "1875/1875 [==============================] - 1s 467us/step - loss: 0.0169 - accuracy: 0.7519 - val_loss: 0.0166 - val_accuracy: 0.7571\n",
      "Epoch 14/500\n",
      "1875/1875 [==============================] - 1s 465us/step - loss: 0.0168 - accuracy: 0.7562 - val_loss: 0.0167 - val_accuracy: 0.7544\n",
      "Epoch 15/500\n",
      "1875/1875 [==============================] - 1s 466us/step - loss: 0.0168 - accuracy: 0.7548 - val_loss: 0.0172 - val_accuracy: 0.7385\n",
      "Epoch 16/500\n",
      "1875/1875 [==============================] - 1s 471us/step - loss: 0.0167 - accuracy: 0.7584 - val_loss: 0.0166 - val_accuracy: 0.7588\n",
      "Epoch 17/500\n",
      "1875/1875 [==============================] - 1s 467us/step - loss: 0.0167 - accuracy: 0.7580 - val_loss: 0.0184 - val_accuracy: 0.7121\n",
      "Epoch 18/500\n",
      "1875/1875 [==============================] - 1s 465us/step - loss: 0.0167 - accuracy: 0.7579 - val_loss: 0.0165 - val_accuracy: 0.7620\n",
      "Epoch 19/500\n",
      "1875/1875 [==============================] - 1s 473us/step - loss: 0.0167 - accuracy: 0.7593 - val_loss: 0.0165 - val_accuracy: 0.7690\n",
      "Epoch 20/500\n",
      "1875/1875 [==============================] - 1s 476us/step - loss: 0.0167 - accuracy: 0.7585 - val_loss: 0.0165 - val_accuracy: 0.7689\n",
      "Epoch 21/500\n",
      "1875/1875 [==============================] - 1s 472us/step - loss: 0.0167 - accuracy: 0.7600 - val_loss: 0.0169 - val_accuracy: 0.7465\n",
      "Epoch 22/500\n",
      "1875/1875 [==============================] - 1s 468us/step - loss: 0.0167 - accuracy: 0.7577 - val_loss: 0.0171 - val_accuracy: 0.7400\n",
      "Epoch 23/500\n",
      "1875/1875 [==============================] - 1s 474us/step - loss: 0.0167 - accuracy: 0.7595 - val_loss: 0.0166 - val_accuracy: 0.7549\n",
      "Epoch 24/500\n",
      "1875/1875 [==============================] - 1s 468us/step - loss: 0.0166 - accuracy: 0.7610 - val_loss: 0.0165 - val_accuracy: 0.7671\n",
      "Epoch 25/500\n",
      "1875/1875 [==============================] - 1s 467us/step - loss: 0.0166 - accuracy: 0.7597 - val_loss: 0.0165 - val_accuracy: 0.7656\n",
      "Epoch 26/500\n",
      "1875/1875 [==============================] - 1s 477us/step - loss: 0.0166 - accuracy: 0.7605 - val_loss: 0.0177 - val_accuracy: 0.7360\n",
      "Epoch 27/500\n",
      "1875/1875 [==============================] - 1s 466us/step - loss: 0.0166 - accuracy: 0.7615 - val_loss: 0.0166 - val_accuracy: 0.7562\n",
      "Epoch 28/500\n",
      "1875/1875 [==============================] - 1s 468us/step - loss: 0.0166 - accuracy: 0.7614 - val_loss: 0.0166 - val_accuracy: 0.7658\n",
      "Epoch 29/500\n",
      "1875/1875 [==============================] - 1s 467us/step - loss: 0.0166 - accuracy: 0.7618 - val_loss: 0.0166 - val_accuracy: 0.7515\n",
      "Epoch 30/500\n",
      "1875/1875 [==============================] - 1s 478us/step - loss: 0.0166 - accuracy: 0.7622 - val_loss: 0.0165 - val_accuracy: 0.7617\n",
      "Epoch 31/500\n",
      "1875/1875 [==============================] - 1s 468us/step - loss: 0.0166 - accuracy: 0.7605 - val_loss: 0.0168 - val_accuracy: 0.7467\n",
      "Epoch 32/500\n",
      "1875/1875 [==============================] - 1s 466us/step - loss: 0.0166 - accuracy: 0.7608 - val_loss: 0.0165 - val_accuracy: 0.7606\n",
      "Epoch 33/500\n",
      "1875/1875 [==============================] - 1s 466us/step - loss: 0.0166 - accuracy: 0.7625 - val_loss: 0.0165 - val_accuracy: 0.7668\n",
      "Epoch 34/500\n",
      "1875/1875 [==============================] - 1s 472us/step - loss: 0.0166 - accuracy: 0.7605 - val_loss: 0.0166 - val_accuracy: 0.7576\n",
      "Epoch 35/500\n",
      "1875/1875 [==============================] - 1s 466us/step - loss: 0.0166 - accuracy: 0.7622 - val_loss: 0.0166 - val_accuracy: 0.7635\n",
      "Epoch 36/500\n",
      "1875/1875 [==============================] - 1s 472us/step - loss: 0.0166 - accuracy: 0.7609 - val_loss: 0.0165 - val_accuracy: 0.7613\n",
      "Epoch 37/500\n",
      "1875/1875 [==============================] - 1s 473us/step - loss: 0.0166 - accuracy: 0.7621 - val_loss: 0.0167 - val_accuracy: 0.7564\n",
      "Epoch 38/500\n",
      "1875/1875 [==============================] - 1s 468us/step - loss: 0.0166 - accuracy: 0.7623 - val_loss: 0.0165 - val_accuracy: 0.7673\n",
      "Epoch 39/500\n",
      "1875/1875 [==============================] - 1s 467us/step - loss: 0.0166 - accuracy: 0.7634 - val_loss: 0.0165 - val_accuracy: 0.7656\n",
      "Epoch 40/500\n",
      "1875/1875 [==============================] - 1s 468us/step - loss: 0.0166 - accuracy: 0.7636 - val_loss: 0.0168 - val_accuracy: 0.7509\n",
      "Epoch 41/500\n",
      "1875/1875 [==============================] - 1s 469us/step - loss: 0.0166 - accuracy: 0.7634 - val_loss: 0.0165 - val_accuracy: 0.7636\n",
      "Epoch 42/500\n",
      "1875/1875 [==============================] - 1s 467us/step - loss: 0.0166 - accuracy: 0.7630 - val_loss: 0.0165 - val_accuracy: 0.7599\n",
      "Epoch 43/500\n",
      "1875/1875 [==============================] - 1s 468us/step - loss: 0.0166 - accuracy: 0.7623 - val_loss: 0.0165 - val_accuracy: 0.7642\n",
      "Epoch 44/500\n",
      "1875/1875 [==============================] - 1s 484us/step - loss: 0.0166 - accuracy: 0.7631 - val_loss: 0.0165 - val_accuracy: 0.7641\n",
      "Epoch 45/500\n",
      "1875/1875 [==============================] - 1s 468us/step - loss: 0.0166 - accuracy: 0.7633 - val_loss: 0.0164 - val_accuracy: 0.7684\n",
      "Epoch 46/500\n",
      "1875/1875 [==============================] - 1s 473us/step - loss: 0.0166 - accuracy: 0.7635 - val_loss: 0.0165 - val_accuracy: 0.7602\n",
      "Epoch 47/500\n",
      "1875/1875 [==============================] - 1s 472us/step - loss: 0.0166 - accuracy: 0.7633 - val_loss: 0.0165 - val_accuracy: 0.7617\n",
      "Epoch 48/500\n",
      "1875/1875 [==============================] - 1s 472us/step - loss: 0.0166 - accuracy: 0.7623 - val_loss: 0.0166 - val_accuracy: 0.7531\n",
      "Epoch 49/500\n",
      "1875/1875 [==============================] - 1s 468us/step - loss: 0.0166 - accuracy: 0.7636 - val_loss: 0.0164 - val_accuracy: 0.7697\n",
      "Epoch 50/500\n",
      "1875/1875 [==============================] - 1s 466us/step - loss: 0.0165 - accuracy: 0.7641 - val_loss: 0.0166 - val_accuracy: 0.7612\n",
      "Epoch 51/500\n",
      "1875/1875 [==============================] - 1s 473us/step - loss: 0.0166 - accuracy: 0.7632 - val_loss: 0.0166 - val_accuracy: 0.7588\n",
      "Epoch 52/500\n",
      "1875/1875 [==============================] - 1s 467us/step - loss: 0.0166 - accuracy: 0.7627 - val_loss: 0.0165 - val_accuracy: 0.7606\n",
      "Epoch 53/500\n",
      "1875/1875 [==============================] - 1s 466us/step - loss: 0.0165 - accuracy: 0.7636 - val_loss: 0.0166 - val_accuracy: 0.7552\n",
      "Epoch 54/500\n",
      "1875/1875 [==============================] - 1s 467us/step - loss: 0.0165 - accuracy: 0.7635 - val_loss: 0.0165 - val_accuracy: 0.7648\n",
      "Epoch 55/500\n",
      "1875/1875 [==============================] - 1s 471us/step - loss: 0.0165 - accuracy: 0.7632 - val_loss: 0.0165 - val_accuracy: 0.7603\n",
      "Epoch 56/500\n",
      "1875/1875 [==============================] - 1s 479us/step - loss: 0.0165 - accuracy: 0.7637 - val_loss: 0.0165 - val_accuracy: 0.7635\n",
      "Epoch 57/500\n",
      "1875/1875 [==============================] - 1s 484us/step - loss: 0.0165 - accuracy: 0.7630 - val_loss: 0.0165 - val_accuracy: 0.7667\n",
      "Epoch 58/500\n",
      "1875/1875 [==============================] - 1s 467us/step - loss: 0.0165 - accuracy: 0.7647 - val_loss: 0.0165 - val_accuracy: 0.7606\n",
      "Epoch 59/500\n",
      "1875/1875 [==============================] - 1s 506us/step - loss: 0.0165 - accuracy: 0.7635 - val_loss: 0.0165 - val_accuracy: 0.7620\n",
      "Epoch 60/500\n",
      "1875/1875 [==============================] - 1s 483us/step - loss: 0.0165 - accuracy: 0.7636 - val_loss: 0.0165 - val_accuracy: 0.7634\n",
      "Epoch 61/500\n",
      "1875/1875 [==============================] - 1s 469us/step - loss: 0.0165 - accuracy: 0.7640 - val_loss: 0.0165 - val_accuracy: 0.7670\n",
      "Epoch 62/500\n",
      "1875/1875 [==============================] - 1s 471us/step - loss: 0.0165 - accuracy: 0.7623 - val_loss: 0.0166 - val_accuracy: 0.7566\n",
      "Epoch 63/500\n",
      "1875/1875 [==============================] - 1s 462us/step - loss: 0.0165 - accuracy: 0.7645 - val_loss: 0.0165 - val_accuracy: 0.7648\n",
      "Epoch 64/500\n",
      "1875/1875 [==============================] - 1s 473us/step - loss: 0.0165 - accuracy: 0.7646 - val_loss: 0.0164 - val_accuracy: 0.7684\n",
      "Epoch 65/500\n",
      "1875/1875 [==============================] - 1s 475us/step - loss: 0.0165 - accuracy: 0.7643 - val_loss: 0.0165 - val_accuracy: 0.7632\n",
      "Epoch 66/500\n",
      "1875/1875 [==============================] - 1s 476us/step - loss: 0.0165 - accuracy: 0.7648 - val_loss: 0.0165 - val_accuracy: 0.7665\n",
      "Epoch 67/500\n",
      "1875/1875 [==============================] - 1s 469us/step - loss: 0.0165 - accuracy: 0.7632 - val_loss: 0.0166 - val_accuracy: 0.7569\n",
      "Epoch 68/500\n",
      "1875/1875 [==============================] - 1s 468us/step - loss: 0.0165 - accuracy: 0.7641 - val_loss: 0.0165 - val_accuracy: 0.7614\n",
      "Epoch 69/500\n",
      "1875/1875 [==============================] - 1s 471us/step - loss: 0.0165 - accuracy: 0.7649 - val_loss: 0.0166 - val_accuracy: 0.7595\n",
      "Epoch 70/500\n",
      "1875/1875 [==============================] - 1s 468us/step - loss: 0.0165 - accuracy: 0.7624 - val_loss: 0.0164 - val_accuracy: 0.7703\n",
      "Epoch 71/500\n",
      "1875/1875 [==============================] - 1s 467us/step - loss: 0.0165 - accuracy: 0.7638 - val_loss: 0.0164 - val_accuracy: 0.7671\n",
      "Epoch 72/500\n",
      "1875/1875 [==============================] - 1s 465us/step - loss: 0.0165 - accuracy: 0.7643 - val_loss: 0.0165 - val_accuracy: 0.7593\n",
      "Epoch 73/500\n",
      "1875/1875 [==============================] - 1s 470us/step - loss: 0.0165 - accuracy: 0.7634 - val_loss: 0.0165 - val_accuracy: 0.7614\n",
      "Epoch 74/500\n",
      "1875/1875 [==============================] - 1s 469us/step - loss: 0.0165 - accuracy: 0.7642 - val_loss: 0.0165 - val_accuracy: 0.7580\n",
      "Epoch 75/500\n",
      "1875/1875 [==============================] - 1s 468us/step - loss: 0.0165 - accuracy: 0.7658 - val_loss: 0.0165 - val_accuracy: 0.7660\n",
      "Epoch 76/500\n",
      "1875/1875 [==============================] - 1s 469us/step - loss: 0.0165 - accuracy: 0.7636 - val_loss: 0.0164 - val_accuracy: 0.7692\n",
      "Epoch 77/500\n",
      "1875/1875 [==============================] - 1s 468us/step - loss: 0.0165 - accuracy: 0.7642 - val_loss: 0.0164 - val_accuracy: 0.7679\n",
      "Epoch 78/500\n",
      "1875/1875 [==============================] - 1s 467us/step - loss: 0.0165 - accuracy: 0.7641 - val_loss: 0.0165 - val_accuracy: 0.7629\n",
      "Epoch 79/500\n",
      "1875/1875 [==============================] - 1s 464us/step - loss: 0.0165 - accuracy: 0.7644 - val_loss: 0.0164 - val_accuracy: 0.7693\n",
      "Epoch 80/500\n",
      "1875/1875 [==============================] - 1s 476us/step - loss: 0.0165 - accuracy: 0.7640 - val_loss: 0.0164 - val_accuracy: 0.7652\n",
      "Epoch 81/500\n",
      "1875/1875 [==============================] - 1s 469us/step - loss: 0.0165 - accuracy: 0.7661 - val_loss: 0.0164 - val_accuracy: 0.7625\n",
      "Epoch 82/500\n",
      "1875/1875 [==============================] - 1s 472us/step - loss: 0.0165 - accuracy: 0.7653 - val_loss: 0.0165 - val_accuracy: 0.7630\n",
      "Epoch 83/500\n",
      "1875/1875 [==============================] - 1s 469us/step - loss: 0.0165 - accuracy: 0.7644 - val_loss: 0.0165 - val_accuracy: 0.7616\n",
      "Epoch 84/500\n",
      "1875/1875 [==============================] - 1s 475us/step - loss: 0.0165 - accuracy: 0.7658 - val_loss: 0.0164 - val_accuracy: 0.7670\n",
      "Epoch 85/500\n",
      "1875/1875 [==============================] - 1s 471us/step - loss: 0.0165 - accuracy: 0.7641 - val_loss: 0.0165 - val_accuracy: 0.7678\n",
      "Epoch 86/500\n",
      "1875/1875 [==============================] - 1s 471us/step - loss: 0.0165 - accuracy: 0.7649 - val_loss: 0.0164 - val_accuracy: 0.7678\n",
      "Epoch 87/500\n",
      "1875/1875 [==============================] - 1s 487us/step - loss: 0.0165 - accuracy: 0.7646 - val_loss: 0.0165 - val_accuracy: 0.7643\n",
      "Epoch 88/500\n",
      "1875/1875 [==============================] - 1s 469us/step - loss: 0.0165 - accuracy: 0.7641 - val_loss: 0.0164 - val_accuracy: 0.7677\n",
      "Epoch 89/500\n",
      "1875/1875 [==============================] - 1s 487us/step - loss: 0.0165 - accuracy: 0.7650 - val_loss: 0.0165 - val_accuracy: 0.7614\n",
      "Epoch 90/500\n",
      "1875/1875 [==============================] - 1s 471us/step - loss: 0.0165 - accuracy: 0.7635 - val_loss: 0.0164 - val_accuracy: 0.7679\n",
      "Epoch 91/500\n",
      "1875/1875 [==============================] - 1s 473us/step - loss: 0.0165 - accuracy: 0.7631 - val_loss: 0.0164 - val_accuracy: 0.7681\n",
      "Epoch 92/500\n",
      "1875/1875 [==============================] - 1s 471us/step - loss: 0.0165 - accuracy: 0.7648 - val_loss: 0.0165 - val_accuracy: 0.7639\n",
      "Epoch 93/500\n",
      "1875/1875 [==============================] - 1s 474us/step - loss: 0.0165 - accuracy: 0.7638 - val_loss: 0.0164 - val_accuracy: 0.7667\n",
      "Epoch 94/500\n",
      "1875/1875 [==============================] - 1s 482us/step - loss: 0.0165 - accuracy: 0.7646 - val_loss: 0.0164 - val_accuracy: 0.7664\n",
      "Epoch 95/500\n",
      "1875/1875 [==============================] - 1s 480us/step - loss: 0.0165 - accuracy: 0.7652 - val_loss: 0.0164 - val_accuracy: 0.7683\n",
      "Epoch 96/500\n",
      "1875/1875 [==============================] - 1s 477us/step - loss: 0.0165 - accuracy: 0.7630 - val_loss: 0.0165 - val_accuracy: 0.7639\n",
      "Epoch 97/500\n",
      "1875/1875 [==============================] - 1s 477us/step - loss: 0.0165 - accuracy: 0.7652 - val_loss: 0.0165 - val_accuracy: 0.7655\n",
      "Epoch 98/500\n",
      "1875/1875 [==============================] - 1s 476us/step - loss: 0.0165 - accuracy: 0.7656 - val_loss: 0.0165 - val_accuracy: 0.7684\n",
      "Epoch 99/500\n",
      "1875/1875 [==============================] - 1s 467us/step - loss: 0.0165 - accuracy: 0.7646 - val_loss: 0.0165 - val_accuracy: 0.7671\n",
      "Epoch 100/500\n",
      "1875/1875 [==============================] - 1s 468us/step - loss: 0.0165 - accuracy: 0.7647 - val_loss: 0.0164 - val_accuracy: 0.7675\n",
      "Epoch 101/500\n",
      "1875/1875 [==============================] - 1s 478us/step - loss: 0.0165 - accuracy: 0.7652 - val_loss: 0.0164 - val_accuracy: 0.7653\n",
      "Epoch 102/500\n",
      "1875/1875 [==============================] - 1s 471us/step - loss: 0.0165 - accuracy: 0.7658 - val_loss: 0.0164 - val_accuracy: 0.7681\n",
      "Epoch 103/500\n",
      "1875/1875 [==============================] - 1s 468us/step - loss: 0.0165 - accuracy: 0.7643 - val_loss: 0.0165 - val_accuracy: 0.7587\n",
      "Epoch 104/500\n",
      "1875/1875 [==============================] - 1s 466us/step - loss: 0.0165 - accuracy: 0.7662 - val_loss: 0.0164 - val_accuracy: 0.7670\n",
      "Epoch 105/500\n",
      "1875/1875 [==============================] - 1s 479us/step - loss: 0.0165 - accuracy: 0.7650 - val_loss: 0.0165 - val_accuracy: 0.7657\n",
      "Epoch 106/500\n",
      "1875/1875 [==============================] - 1s 471us/step - loss: 0.0165 - accuracy: 0.7644 - val_loss: 0.0165 - val_accuracy: 0.7628\n",
      "Epoch 107/500\n",
      "1875/1875 [==============================] - 1s 470us/step - loss: 0.0165 - accuracy: 0.7649 - val_loss: 0.0165 - val_accuracy: 0.7650\n",
      "Epoch 108/500\n",
      "1875/1875 [==============================] - 1s 477us/step - loss: 0.0165 - accuracy: 0.7657 - val_loss: 0.0165 - val_accuracy: 0.7629\n",
      "Epoch 109/500\n",
      "1875/1875 [==============================] - 1s 482us/step - loss: 0.0165 - accuracy: 0.7658 - val_loss: 0.0164 - val_accuracy: 0.7675\n",
      "Epoch 110/500\n",
      "1875/1875 [==============================] - 1s 477us/step - loss: 0.0165 - accuracy: 0.7649 - val_loss: 0.0164 - val_accuracy: 0.7698\n",
      "Epoch 111/500\n"
     ]
    },
    {
     "name": "stdout",
     "output_type": "stream",
     "text": [
      "1875/1875 [==============================] - 1s 470us/step - loss: 0.0165 - accuracy: 0.7654 - val_loss: 0.0165 - val_accuracy: 0.7625\n",
      "Epoch 112/500\n",
      "1875/1875 [==============================] - 1s 479us/step - loss: 0.0165 - accuracy: 0.7649 - val_loss: 0.0164 - val_accuracy: 0.7658\n",
      "Epoch 113/500\n",
      "1875/1875 [==============================] - 1s 469us/step - loss: 0.0165 - accuracy: 0.7643 - val_loss: 0.0164 - val_accuracy: 0.7678\n",
      "Epoch 114/500\n",
      "1875/1875 [==============================] - 1s 467us/step - loss: 0.0165 - accuracy: 0.7648 - val_loss: 0.0165 - val_accuracy: 0.7638\n",
      "Epoch 115/500\n",
      "1875/1875 [==============================] - 1s 473us/step - loss: 0.0165 - accuracy: 0.7645 - val_loss: 0.0165 - val_accuracy: 0.7613\n",
      "Epoch 116/500\n",
      "1875/1875 [==============================] - 1s 491us/step - loss: 0.0165 - accuracy: 0.7645 - val_loss: 0.0164 - val_accuracy: 0.7694\n",
      "Epoch 117/500\n",
      "1875/1875 [==============================] - 1s 488us/step - loss: 0.0165 - accuracy: 0.7651 - val_loss: 0.0164 - val_accuracy: 0.7660\n",
      "Epoch 118/500\n",
      "1875/1875 [==============================] - 1s 475us/step - loss: 0.0165 - accuracy: 0.7640 - val_loss: 0.0164 - val_accuracy: 0.7657\n",
      "Epoch 119/500\n",
      "1233/1875 [==================>...........] - ETA: 0s - loss: 0.0165 - accuracy: 0.7645"
     ]
    },
    {
     "ename": "KeyboardInterrupt",
     "evalue": "",
     "output_type": "error",
     "traceback": [
      "\u001b[1;31m---------------------------------------------------------------------------\u001b[0m",
      "\u001b[1;31mKeyboardInterrupt\u001b[0m                         Traceback (most recent call last)",
      "\u001b[1;32mC:\\Users\\ADMINI~1\\AppData\\Local\\Temp/ipykernel_16856/270154318.py\u001b[0m in \u001b[0;36m<module>\u001b[1;34m\u001b[0m\n\u001b[0;32m      4\u001b[0m               \u001b[0moptimizer\u001b[0m \u001b[1;33m=\u001b[0m \u001b[1;34m\"ADAM\"\u001b[0m\u001b[1;33m,\u001b[0m\u001b[1;33m\u001b[0m\u001b[1;33m\u001b[0m\u001b[0m\n\u001b[0;32m      5\u001b[0m               metrics = [\"accuracy\"])\n\u001b[1;32m----> 6\u001b[1;33m \u001b[0mhistory\u001b[0m \u001b[1;33m=\u001b[0m \u001b[0mmodel\u001b[0m\u001b[1;33m.\u001b[0m\u001b[0mfit\u001b[0m\u001b[1;33m(\u001b[0m\u001b[0mx\u001b[0m \u001b[1;33m=\u001b[0m \u001b[0mF_train\u001b[0m\u001b[1;33m,\u001b[0m \u001b[0my\u001b[0m \u001b[1;33m=\u001b[0m \u001b[0mQ_train\u001b[0m\u001b[1;33m,\u001b[0m \u001b[0mvalidation_data\u001b[0m\u001b[1;33m=\u001b[0m\u001b[1;33m(\u001b[0m\u001b[0mF_val\u001b[0m\u001b[1;33m,\u001b[0m \u001b[0mQ_val\u001b[0m\u001b[1;33m)\u001b[0m\u001b[1;33m,\u001b[0m\u001b[0mepochs\u001b[0m \u001b[1;33m=\u001b[0m \u001b[1;36m500\u001b[0m\u001b[1;33m)\u001b[0m\u001b[1;33m\u001b[0m\u001b[1;33m\u001b[0m\u001b[0m\n\u001b[0m\u001b[0;32m      7\u001b[0m \u001b[1;33m\u001b[0m\u001b[0m\n\u001b[0;32m      8\u001b[0m \u001b[1;33m\u001b[0m\u001b[0m\n",
      "\u001b[1;32m~\\anaconda3\\envs\\AAI_2021\\lib\\site-packages\\tensorflow\\python\\keras\\engine\\training.py\u001b[0m in \u001b[0;36m_method_wrapper\u001b[1;34m(self, *args, **kwargs)\u001b[0m\n\u001b[0;32m    106\u001b[0m   \u001b[1;32mdef\u001b[0m \u001b[0m_method_wrapper\u001b[0m\u001b[1;33m(\u001b[0m\u001b[0mself\u001b[0m\u001b[1;33m,\u001b[0m \u001b[1;33m*\u001b[0m\u001b[0margs\u001b[0m\u001b[1;33m,\u001b[0m \u001b[1;33m**\u001b[0m\u001b[0mkwargs\u001b[0m\u001b[1;33m)\u001b[0m\u001b[1;33m:\u001b[0m\u001b[1;33m\u001b[0m\u001b[1;33m\u001b[0m\u001b[0m\n\u001b[0;32m    107\u001b[0m     \u001b[1;32mif\u001b[0m \u001b[1;32mnot\u001b[0m \u001b[0mself\u001b[0m\u001b[1;33m.\u001b[0m\u001b[0m_in_multi_worker_mode\u001b[0m\u001b[1;33m(\u001b[0m\u001b[1;33m)\u001b[0m\u001b[1;33m:\u001b[0m  \u001b[1;31m# pylint: disable=protected-access\u001b[0m\u001b[1;33m\u001b[0m\u001b[1;33m\u001b[0m\u001b[0m\n\u001b[1;32m--> 108\u001b[1;33m       \u001b[1;32mreturn\u001b[0m \u001b[0mmethod\u001b[0m\u001b[1;33m(\u001b[0m\u001b[0mself\u001b[0m\u001b[1;33m,\u001b[0m \u001b[1;33m*\u001b[0m\u001b[0margs\u001b[0m\u001b[1;33m,\u001b[0m \u001b[1;33m**\u001b[0m\u001b[0mkwargs\u001b[0m\u001b[1;33m)\u001b[0m\u001b[1;33m\u001b[0m\u001b[1;33m\u001b[0m\u001b[0m\n\u001b[0m\u001b[0;32m    109\u001b[0m \u001b[1;33m\u001b[0m\u001b[0m\n\u001b[0;32m    110\u001b[0m     \u001b[1;31m# Running inside `run_distribute_coordinator` already.\u001b[0m\u001b[1;33m\u001b[0m\u001b[1;33m\u001b[0m\u001b[1;33m\u001b[0m\u001b[0m\n",
      "\u001b[1;32m~\\anaconda3\\envs\\AAI_2021\\lib\\site-packages\\tensorflow\\python\\keras\\engine\\training.py\u001b[0m in \u001b[0;36mfit\u001b[1;34m(self, x, y, batch_size, epochs, verbose, callbacks, validation_split, validation_data, shuffle, class_weight, sample_weight, initial_epoch, steps_per_epoch, validation_steps, validation_batch_size, validation_freq, max_queue_size, workers, use_multiprocessing)\u001b[0m\n\u001b[0;32m   1096\u001b[0m                 batch_size=batch_size):\n\u001b[0;32m   1097\u001b[0m               \u001b[0mcallbacks\u001b[0m\u001b[1;33m.\u001b[0m\u001b[0mon_train_batch_begin\u001b[0m\u001b[1;33m(\u001b[0m\u001b[0mstep\u001b[0m\u001b[1;33m)\u001b[0m\u001b[1;33m\u001b[0m\u001b[1;33m\u001b[0m\u001b[0m\n\u001b[1;32m-> 1098\u001b[1;33m               \u001b[0mtmp_logs\u001b[0m \u001b[1;33m=\u001b[0m \u001b[0mtrain_function\u001b[0m\u001b[1;33m(\u001b[0m\u001b[0miterator\u001b[0m\u001b[1;33m)\u001b[0m\u001b[1;33m\u001b[0m\u001b[1;33m\u001b[0m\u001b[0m\n\u001b[0m\u001b[0;32m   1099\u001b[0m               \u001b[1;32mif\u001b[0m \u001b[0mdata_handler\u001b[0m\u001b[1;33m.\u001b[0m\u001b[0mshould_sync\u001b[0m\u001b[1;33m:\u001b[0m\u001b[1;33m\u001b[0m\u001b[1;33m\u001b[0m\u001b[0m\n\u001b[0;32m   1100\u001b[0m                 \u001b[0mcontext\u001b[0m\u001b[1;33m.\u001b[0m\u001b[0masync_wait\u001b[0m\u001b[1;33m(\u001b[0m\u001b[1;33m)\u001b[0m\u001b[1;33m\u001b[0m\u001b[1;33m\u001b[0m\u001b[0m\n",
      "\u001b[1;32m~\\anaconda3\\envs\\AAI_2021\\lib\\site-packages\\tensorflow\\python\\eager\\def_function.py\u001b[0m in \u001b[0;36m__call__\u001b[1;34m(self, *args, **kwds)\u001b[0m\n\u001b[0;32m    778\u001b[0m       \u001b[1;32melse\u001b[0m\u001b[1;33m:\u001b[0m\u001b[1;33m\u001b[0m\u001b[1;33m\u001b[0m\u001b[0m\n\u001b[0;32m    779\u001b[0m         \u001b[0mcompiler\u001b[0m \u001b[1;33m=\u001b[0m \u001b[1;34m\"nonXla\"\u001b[0m\u001b[1;33m\u001b[0m\u001b[1;33m\u001b[0m\u001b[0m\n\u001b[1;32m--> 780\u001b[1;33m         \u001b[0mresult\u001b[0m \u001b[1;33m=\u001b[0m \u001b[0mself\u001b[0m\u001b[1;33m.\u001b[0m\u001b[0m_call\u001b[0m\u001b[1;33m(\u001b[0m\u001b[1;33m*\u001b[0m\u001b[0margs\u001b[0m\u001b[1;33m,\u001b[0m \u001b[1;33m**\u001b[0m\u001b[0mkwds\u001b[0m\u001b[1;33m)\u001b[0m\u001b[1;33m\u001b[0m\u001b[1;33m\u001b[0m\u001b[0m\n\u001b[0m\u001b[0;32m    781\u001b[0m \u001b[1;33m\u001b[0m\u001b[0m\n\u001b[0;32m    782\u001b[0m       \u001b[0mnew_tracing_count\u001b[0m \u001b[1;33m=\u001b[0m \u001b[0mself\u001b[0m\u001b[1;33m.\u001b[0m\u001b[0m_get_tracing_count\u001b[0m\u001b[1;33m(\u001b[0m\u001b[1;33m)\u001b[0m\u001b[1;33m\u001b[0m\u001b[1;33m\u001b[0m\u001b[0m\n",
      "\u001b[1;32m~\\anaconda3\\envs\\AAI_2021\\lib\\site-packages\\tensorflow\\python\\eager\\def_function.py\u001b[0m in \u001b[0;36m_call\u001b[1;34m(self, *args, **kwds)\u001b[0m\n\u001b[0;32m    805\u001b[0m       \u001b[1;31m# In this case we have created variables on the first call, so we run the\u001b[0m\u001b[1;33m\u001b[0m\u001b[1;33m\u001b[0m\u001b[1;33m\u001b[0m\u001b[0m\n\u001b[0;32m    806\u001b[0m       \u001b[1;31m# defunned version which is guaranteed to never create variables.\u001b[0m\u001b[1;33m\u001b[0m\u001b[1;33m\u001b[0m\u001b[1;33m\u001b[0m\u001b[0m\n\u001b[1;32m--> 807\u001b[1;33m       \u001b[1;32mreturn\u001b[0m \u001b[0mself\u001b[0m\u001b[1;33m.\u001b[0m\u001b[0m_stateless_fn\u001b[0m\u001b[1;33m(\u001b[0m\u001b[1;33m*\u001b[0m\u001b[0margs\u001b[0m\u001b[1;33m,\u001b[0m \u001b[1;33m**\u001b[0m\u001b[0mkwds\u001b[0m\u001b[1;33m)\u001b[0m  \u001b[1;31m# pylint: disable=not-callable\u001b[0m\u001b[1;33m\u001b[0m\u001b[1;33m\u001b[0m\u001b[0m\n\u001b[0m\u001b[0;32m    808\u001b[0m     \u001b[1;32melif\u001b[0m \u001b[0mself\u001b[0m\u001b[1;33m.\u001b[0m\u001b[0m_stateful_fn\u001b[0m \u001b[1;32mis\u001b[0m \u001b[1;32mnot\u001b[0m \u001b[1;32mNone\u001b[0m\u001b[1;33m:\u001b[0m\u001b[1;33m\u001b[0m\u001b[1;33m\u001b[0m\u001b[0m\n\u001b[0;32m    809\u001b[0m       \u001b[1;31m# Release the lock early so that multiple threads can perform the call\u001b[0m\u001b[1;33m\u001b[0m\u001b[1;33m\u001b[0m\u001b[1;33m\u001b[0m\u001b[0m\n",
      "\u001b[1;32m~\\anaconda3\\envs\\AAI_2021\\lib\\site-packages\\tensorflow\\python\\eager\\function.py\u001b[0m in \u001b[0;36m__call__\u001b[1;34m(self, *args, **kwargs)\u001b[0m\n\u001b[0;32m   2827\u001b[0m     \u001b[1;32mwith\u001b[0m \u001b[0mself\u001b[0m\u001b[1;33m.\u001b[0m\u001b[0m_lock\u001b[0m\u001b[1;33m:\u001b[0m\u001b[1;33m\u001b[0m\u001b[1;33m\u001b[0m\u001b[0m\n\u001b[0;32m   2828\u001b[0m       \u001b[0mgraph_function\u001b[0m\u001b[1;33m,\u001b[0m \u001b[0margs\u001b[0m\u001b[1;33m,\u001b[0m \u001b[0mkwargs\u001b[0m \u001b[1;33m=\u001b[0m \u001b[0mself\u001b[0m\u001b[1;33m.\u001b[0m\u001b[0m_maybe_define_function\u001b[0m\u001b[1;33m(\u001b[0m\u001b[0margs\u001b[0m\u001b[1;33m,\u001b[0m \u001b[0mkwargs\u001b[0m\u001b[1;33m)\u001b[0m\u001b[1;33m\u001b[0m\u001b[1;33m\u001b[0m\u001b[0m\n\u001b[1;32m-> 2829\u001b[1;33m     \u001b[1;32mreturn\u001b[0m \u001b[0mgraph_function\u001b[0m\u001b[1;33m.\u001b[0m\u001b[0m_filtered_call\u001b[0m\u001b[1;33m(\u001b[0m\u001b[0margs\u001b[0m\u001b[1;33m,\u001b[0m \u001b[0mkwargs\u001b[0m\u001b[1;33m)\u001b[0m  \u001b[1;31m# pylint: disable=protected-access\u001b[0m\u001b[1;33m\u001b[0m\u001b[1;33m\u001b[0m\u001b[0m\n\u001b[0m\u001b[0;32m   2830\u001b[0m \u001b[1;33m\u001b[0m\u001b[0m\n\u001b[0;32m   2831\u001b[0m   \u001b[1;33m@\u001b[0m\u001b[0mproperty\u001b[0m\u001b[1;33m\u001b[0m\u001b[1;33m\u001b[0m\u001b[0m\n",
      "\u001b[1;32m~\\anaconda3\\envs\\AAI_2021\\lib\\site-packages\\tensorflow\\python\\eager\\function.py\u001b[0m in \u001b[0;36m_filtered_call\u001b[1;34m(self, args, kwargs, cancellation_manager)\u001b[0m\n\u001b[0;32m   1841\u001b[0m       \u001b[0;31m`\u001b[0m\u001b[0margs\u001b[0m\u001b[0;31m`\u001b[0m \u001b[1;32mand\u001b[0m\u001b[0;31m \u001b[0m\u001b[0;31m`\u001b[0m\u001b[0mkwargs\u001b[0m\u001b[0;31m`\u001b[0m\u001b[1;33m.\u001b[0m\u001b[1;33m\u001b[0m\u001b[1;33m\u001b[0m\u001b[0m\n\u001b[0;32m   1842\u001b[0m     \"\"\"\n\u001b[1;32m-> 1843\u001b[1;33m     return self._call_flat(\n\u001b[0m\u001b[0;32m   1844\u001b[0m         [t for t in nest.flatten((args, kwargs), expand_composites=True)\n\u001b[0;32m   1845\u001b[0m          if isinstance(t, (ops.Tensor,\n",
      "\u001b[1;32m~\\anaconda3\\envs\\AAI_2021\\lib\\site-packages\\tensorflow\\python\\eager\\function.py\u001b[0m in \u001b[0;36m_call_flat\u001b[1;34m(self, args, captured_inputs, cancellation_manager)\u001b[0m\n\u001b[0;32m   1921\u001b[0m         and executing_eagerly):\n\u001b[0;32m   1922\u001b[0m       \u001b[1;31m# No tape is watching; skip to running the function.\u001b[0m\u001b[1;33m\u001b[0m\u001b[1;33m\u001b[0m\u001b[1;33m\u001b[0m\u001b[0m\n\u001b[1;32m-> 1923\u001b[1;33m       return self._build_call_outputs(self._inference_function.call(\n\u001b[0m\u001b[0;32m   1924\u001b[0m           ctx, args, cancellation_manager=cancellation_manager))\n\u001b[0;32m   1925\u001b[0m     forward_backward = self._select_forward_and_backward_functions(\n",
      "\u001b[1;32m~\\anaconda3\\envs\\AAI_2021\\lib\\site-packages\\tensorflow\\python\\eager\\function.py\u001b[0m in \u001b[0;36mcall\u001b[1;34m(self, ctx, args, cancellation_manager)\u001b[0m\n\u001b[0;32m    543\u001b[0m       \u001b[1;32mwith\u001b[0m \u001b[0m_InterpolateFunctionError\u001b[0m\u001b[1;33m(\u001b[0m\u001b[0mself\u001b[0m\u001b[1;33m)\u001b[0m\u001b[1;33m:\u001b[0m\u001b[1;33m\u001b[0m\u001b[1;33m\u001b[0m\u001b[0m\n\u001b[0;32m    544\u001b[0m         \u001b[1;32mif\u001b[0m \u001b[0mcancellation_manager\u001b[0m \u001b[1;32mis\u001b[0m \u001b[1;32mNone\u001b[0m\u001b[1;33m:\u001b[0m\u001b[1;33m\u001b[0m\u001b[1;33m\u001b[0m\u001b[0m\n\u001b[1;32m--> 545\u001b[1;33m           outputs = execute.execute(\n\u001b[0m\u001b[0;32m    546\u001b[0m               \u001b[0mstr\u001b[0m\u001b[1;33m(\u001b[0m\u001b[0mself\u001b[0m\u001b[1;33m.\u001b[0m\u001b[0msignature\u001b[0m\u001b[1;33m.\u001b[0m\u001b[0mname\u001b[0m\u001b[1;33m)\u001b[0m\u001b[1;33m,\u001b[0m\u001b[1;33m\u001b[0m\u001b[1;33m\u001b[0m\u001b[0m\n\u001b[0;32m    547\u001b[0m               \u001b[0mnum_outputs\u001b[0m\u001b[1;33m=\u001b[0m\u001b[0mself\u001b[0m\u001b[1;33m.\u001b[0m\u001b[0m_num_outputs\u001b[0m\u001b[1;33m,\u001b[0m\u001b[1;33m\u001b[0m\u001b[1;33m\u001b[0m\u001b[0m\n",
      "\u001b[1;32m~\\anaconda3\\envs\\AAI_2021\\lib\\site-packages\\tensorflow\\python\\eager\\execute.py\u001b[0m in \u001b[0;36mquick_execute\u001b[1;34m(op_name, num_outputs, inputs, attrs, ctx, name)\u001b[0m\n\u001b[0;32m     57\u001b[0m   \u001b[1;32mtry\u001b[0m\u001b[1;33m:\u001b[0m\u001b[1;33m\u001b[0m\u001b[1;33m\u001b[0m\u001b[0m\n\u001b[0;32m     58\u001b[0m     \u001b[0mctx\u001b[0m\u001b[1;33m.\u001b[0m\u001b[0mensure_initialized\u001b[0m\u001b[1;33m(\u001b[0m\u001b[1;33m)\u001b[0m\u001b[1;33m\u001b[0m\u001b[1;33m\u001b[0m\u001b[0m\n\u001b[1;32m---> 59\u001b[1;33m     tensors = pywrap_tfe.TFE_Py_Execute(ctx._handle, device_name, op_name,\n\u001b[0m\u001b[0;32m     60\u001b[0m                                         inputs, attrs, num_outputs)\n\u001b[0;32m     61\u001b[0m   \u001b[1;32mexcept\u001b[0m \u001b[0mcore\u001b[0m\u001b[1;33m.\u001b[0m\u001b[0m_NotOkStatusException\u001b[0m \u001b[1;32mas\u001b[0m \u001b[0me\u001b[0m\u001b[1;33m:\u001b[0m\u001b[1;33m\u001b[0m\u001b[1;33m\u001b[0m\u001b[0m\n",
      "\u001b[1;31mKeyboardInterrupt\u001b[0m: "
     ]
    }
   ],
   "source": [
    "start_vect=time.time()\n",
    "\n",
    "model.compile(loss = \"mse\",\n",
    "              optimizer = \"ADAM\",\n",
    "              metrics = [\"accuracy\"])\n",
    "history = model.fit(x = F_train, y = Q_train, validation_data=(F_val, Q_val),epochs = 500)\n",
    "\n",
    "\n",
    "print(\"training Runtime: %0.2f Minutes\"%((time.time() - start_vect)/60))"
   ]
  },
  {
   "cell_type": "code",
   "execution_count": null,
   "metadata": {
    "id": "_4nRWiJzYn6S"
   },
   "outputs": [],
   "source": []
  },
  {
   "cell_type": "code",
   "execution_count": null,
   "metadata": {},
   "outputs": [],
   "source": []
  }
 ],
 "metadata": {
  "accelerator": "GPU",
  "colab": {
   "name": "2021.11.19.ipynb",
   "provenance": []
  },
  "kernelspec": {
   "display_name": "Python 3 (ipykernel)",
   "language": "python",
   "name": "python3"
  },
  "language_info": {
   "codemirror_mode": {
    "name": "ipython",
    "version": 3
   },
   "file_extension": ".py",
   "mimetype": "text/x-python",
   "name": "python",
   "nbconvert_exporter": "python",
   "pygments_lexer": "ipython3",
   "version": "3.8.8"
  }
 },
 "nbformat": 4,
 "nbformat_minor": 1
}
